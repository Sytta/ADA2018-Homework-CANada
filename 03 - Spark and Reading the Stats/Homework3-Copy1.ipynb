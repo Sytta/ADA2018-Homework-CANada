{
 "cells": [
  {
   "cell_type": "markdown",
   "metadata": {},
   "source": [
    "# ADA 2018 - Homework 3\n",
    "\n",
    "\n",
    "\n",
    "## Undestanding the StackOverflow community\n",
    "\n",
    "\n",
    "Deadline: Nov 7th 2018, 23:59:59\n",
    "\n",
    "Submission link: Check channel homework-3-public"
   ]
  },
  {
   "cell_type": "markdown",
   "metadata": {},
   "source": [
    "StackOverflow is the most popular programming-related Q&A website. It serves as a platform for users to ask and answer questions and to vote questions and answers up or down. Users of StackOverflow can earn reputation points and \"badges\"; for example, a person is awarded 10 reputation points for receiving an \"up\" vote on an answer given to a question, and 5 points for the \"up\" vote on a question asked. Also, users receive badges for their valued contributions, which represents a kind of gamification of the traditional Q&A site. \n",
    "\n",
    "[Learn more about StackOverflow on Wikipedia](https://en.wikipedia.org/wiki/Stack_Overflow)\n",
    "\n",
    "----\n",
    "\n",
    "Dataset link:\n",
    "\n",
    "https://drive.google.com/open?id=1POlGjqzw9v_pZ_bUnXGihOgk45kbvNjB\n",
    "\n",
    "http://iccluster053.iccluster.epfl.ch/Posts.json.zip (mirror 1)\n",
    "\n",
    "https://iloveadatas.com/datasets/Posts.json.zip (mirror 2)\n",
    "\n",
    "Dataset description:\n",
    "\n",
    "* **Id**: Id of the post\n",
    "* **CreationDate**: Creation date of the post (String format)\n",
    "* **PostTypeId**: Type of post (Question = 1, Answer = 2)\n",
    "* **ParentId**: The id of the question. Only present if PostTypeId = 2\n",
    "* **Score**: Points assigned by the users\n",
    "* **Tags**: Tags of the question. Only present if PostTypeId = 1\n",
    "* **Title**: Only present if PostTypeId = 1\n",
    "* **ViewCount**: Only present if PostTypeId = 1\n",
    "\n",
    "The dataset format is JSON. Here are examples of a question and an answer:\n",
    "\n",
    "Question:\n",
    "```json\n",
    "{\n",
    "    \"Id\": 10130734,\n",
    "    \"CreationDate\": \"2012-04-12T19:51:25.793+02:00\",\n",
    "    \"PostTypeId\": 1,\n",
    "    \"Score\": 4,\n",
    "    \"Tags\": \"<python><pandas>\",\n",
    "    \"Title\": \"Best way to insert a new value\",\n",
    "    \"ViewCount\": 3803\n",
    "}\n",
    "```\n",
    "\n",
    "Answer:\n",
    "```json\n",
    "{  \n",
    "   \"CreationDate\":\"2010-10-26T03:19:05.063+02:00\",\n",
    "   \"Id\":4020440,\n",
    "   \"ParentId\":4020214,\n",
    "   \"PostTypeId\":2,\n",
    "   \"Score\":1\n",
    "}\n",
    "```\n",
    "\n",
    "----\n",
    "Useful resources:\n",
    "\n",
    "**Spark SQL, DataFrames and Datasets Guide**\n",
    "\n",
    "https://spark.apache.org/docs/latest/sql-programming-guide.html\n",
    "\n",
    "**Database schema documentation for the public data dump**\n",
    "\n",
    "https://meta.stackexchange.com/questions/2677/database-schema-documentation-for-the-public-data-dump-and-sede\n",
    "\n",
    "----\n",
    "\n",
    "**Note:** Use Spark where possible. Some computations can take more than 10 minutes on a common notebook. Consider to save partial results on disk."
   ]
  },
  {
   "cell_type": "code",
   "execution_count": 83,
   "metadata": {},
   "outputs": [],
   "source": [
    "# Add your imports here\n",
    "\n",
    "import pandas as pd\n",
    "import numpy as np\n",
    "import scipy as sp\n",
    "from pyspark.sql import *\n",
    "%matplotlib inline\n",
    "from collections import Counter\n",
    "import re\n",
    "from pathlib import Path\n",
    "import matplotlib.pyplot as plt\n",
    "\n"
   ]
  },
  {
   "cell_type": "code",
   "execution_count": 4,
   "metadata": {},
   "outputs": [],
   "source": [
    "spark = SparkSession.builder.getOrCreate()"
   ]
  },
  {
   "cell_type": "code",
   "execution_count": 5,
   "metadata": {},
   "outputs": [],
   "source": [
    "DATA_DIR = 'data/'\n",
    "POST_PATH = DATA_DIR + \"Posts.json\"\n",
    "POST_PQ = \"Posts.parquet\"\n",
    "TAGS_PQ = \"Tags.parquet\"\n",
    "QUESTIONS_PQ = \"Questions.parquet\"\n",
    "ANSWERS_PQ = \"Answers.parquet\""
   ]
  },
  {
   "cell_type": "markdown",
   "metadata": {},
   "source": [
    "### Task A: Convert the dataset to a more convenient format\n",
    "As a warm-up task (and to avoid to warm up your laptop too much), load the dataset into a Spark dataframe, show the content, and save it in the _Parquet_ format. Use this step to convert the fields to a more convenient form.\n",
    "\n",
    "Answer the following questions:\n",
    "\n",
    "1. How many questions have been asked on StackOverflow?\n",
    "2. How many answers have been given?\n",
    "3. What is the percentage of questions with a score of 0?\n",
    "\n",
    "**Hint:** The next tasks involve a time difference. Consider storing time in numeric format."
   ]
  },
  {
   "cell_type": "code",
   "execution_count": 4,
   "metadata": {},
   "outputs": [
    {
     "name": "stdout",
     "output_type": "stream",
     "text": [
      "+--------------------+-------+--------+----------+-----+--------------------+--------------------+---------+\n",
      "|        CreationDate|     Id|ParentId|PostTypeId|Score|                Tags|               Title|ViewCount|\n",
      "+--------------------+-------+--------+----------+-----+--------------------+--------------------+---------+\n",
      "|2010-10-26T03:17:...|4020437|    null|         1|    0|<asp.net-mvc><jqu...|display jquery di...|      510|\n",
      "|2010-10-26T03:18:...|4020438|    null|         1|    0|<javascript><html...|Why can only my m...|       62|\n",
      "|2010-10-26T03:19:...|4020440| 4020214|         2|    1|                null|                null|     null|\n",
      "|2010-10-26T03:19:...|4020441| 3938154|         2|    0|                null|                null|     null|\n",
      "|2010-10-26T03:20:...|4020443| 4020419|         2|  324|                null|                null|     null|\n",
      "|2010-10-26T03:20:...|4020444| 4020433|         2|    0|                null|                null|     null|\n",
      "|2010-10-26T03:21:...|4020445|    null|         1|    0|<c++><visual-stud...|Communicating ove...|     1170|\n",
      "|2010-10-26T03:21:...|4020447| 4020433|         2|    1|                null|                null|     null|\n",
      "|2010-10-26T03:21:...|4020448| 4020437|         2|    1|                null|                null|     null|\n",
      "|2010-10-26T03:21:...|4020449|    null|         1|    0|<c#><textbox><fil...|C# Text Box File ...|      845|\n",
      "|2010-10-26T03:21:...|4020450|    null|         1|    0|<php><wordpress><...|PHP image grab wh...|      761|\n",
      "|2010-10-26T03:21:...|4020451| 4020382|         2|    2|                null|                null|     null|\n",
      "|2010-10-26T03:22:...|4020452| 4020433|         2|    7|                null|                null|     null|\n",
      "|2010-10-26T03:22:...|4020453|    null|         1|    4|<objective-c><del...|Objective C - Str...|     1091|\n",
      "|2010-10-26T03:22:...|4020454| 4020433|         2|    2|                null|                null|     null|\n",
      "|2010-10-26T03:22:...|4020455| 1175258|         2|    5|                null|                null|     null|\n",
      "|2010-10-26T03:23:...|4020456|    null|         1|    2|       <c><pointers>|Changing pointer ...|     4143|\n",
      "|2010-10-26T03:23:...|4020457|    null|         1|    1|<flash><actionscr...|AS2 Center loadMo...|     1449|\n",
      "|2010-10-26T03:23:...|4020458| 4010166|         2|    1|                null|                null|     null|\n",
      "|2010-10-26T03:23:...|4020460|    null|         1|    3|<c#><asp.net><ima...|HTML email \"opens...|      544|\n",
      "+--------------------+-------+--------+----------+-----+--------------------+--------------------+---------+\n",
      "only showing top 20 rows\n",
      "\n"
     ]
    }
   ],
   "source": [
    "# Load dataset into Spark Dataframe\n",
    "posts_df = spark.read.json(POST_PATH)\n",
    "# Save data set into Parquet\n",
    "if not Path(POST_PQ).exists():\n",
    "    print(\"Saving {} ...\".format(POST_PATH))\n",
    "    posts_df.write.save(POST_PQ)\n",
    "posts_df.show()"
   ]
  },
  {
   "cell_type": "code",
   "execution_count": 8,
   "metadata": {},
   "outputs": [],
   "source": [
    "posts = spark.read.parquet(POST_PQ)"
   ]
  },
  {
   "cell_type": "code",
   "execution_count": 33,
   "metadata": {},
   "outputs": [
    {
     "name": "stdout",
     "output_type": "stream",
     "text": [
      "There are 15647060 questions asked on StackOverflow.\n"
     ]
    }
   ],
   "source": [
    "# 1. How many questions have been asked on StackOverflow?\n",
    "questions = posts.filter(posts['PostTypeId'] == 1)\n",
    "nb_questions = questions.count()\n",
    "# Save for later use\n",
    "if not Path(QUESTIONS_PQ).exists():\n",
    "    print(\"Saving {} ...\".format(QUESTIONS_PQ))\n",
    "    questions.write.save(QUESTIONS_PQ)\n",
    "print(\"There are {} questions asked on StackOverflow.\".format(nb_questions))"
   ]
  },
  {
   "cell_type": "code",
   "execution_count": 6,
   "metadata": {},
   "outputs": [
    {
     "name": "stdout",
     "output_type": "stream",
     "text": [
      "There are 25192772 answers given on StackOverflow.\n"
     ]
    }
   ],
   "source": [
    "# 2. How many answers have been given?\n",
    "nb_answers = posts.filter(posts['PostTypeId'] == 2).count()\n",
    "print(\"There are {} answers given on StackOverflow.\".format(nb_answers))"
   ]
  },
  {
   "cell_type": "code",
   "execution_count": 7,
   "metadata": {},
   "outputs": [
    {
     "name": "stdout",
     "output_type": "stream",
     "text": [
      "46.54365740273253 % of the questions have score of 0.\n"
     ]
    }
   ],
   "source": [
    "# 3. What is the percentage of questions with a score of 0?\n",
    "nb_quest_0_score = questions.filter(questions['Score'] == 0).count()\n",
    "percentage_0_score = float(nb_quest_0_score) / float(nb_questions) * 100\n",
    "print(\"{} % of the questions have score of 0.\".format(percentage_0_score))"
   ]
  },
  {
   "cell_type": "markdown",
   "metadata": {},
   "source": [
    "**Hint:** Load the dataset from the Parquet file for the next tasks."
   ]
  },
  {
   "cell_type": "markdown",
   "metadata": {},
   "source": [
    "### Task B: What are the 10 most popular tags?\n",
    "\n",
    "What are the most popular tags in StackOverflow? Use Spark to extract the information you need, and answer the following questions with Pandas and Matplotlib (or Seaborn):\n",
    "\n",
    "1. What is the proportion of tags that appear in fewer than 100 questions?\n",
    "2. Plot the distribution of the tag counts using an appropriate representation.\n",
    "3. Plot a bar chart with the number of questions for the 10 most popular tags.\n",
    "\n",
    "For each task describe your findings briefly."
   ]
  },
  {
   "cell_type": "markdown",
   "metadata": {},
   "source": [
    "#### 1. What is the proportion of tags that appear in fewer than 100 questions?\n",
    "\n",
    "1. Get the total number of distinct tags.\n",
    "2. Extract the tags from the question posts\n",
    "3. Filter to get the tags that appear less than 100 times (assuming that we cannot have a tag to appear twice in the same question).\n",
    "4. Calculate the proportion."
   ]
  },
  {
   "cell_type": "code",
   "execution_count": 6,
   "metadata": {},
   "outputs": [],
   "source": [
    "# If first time : create the rdd\n",
    "if not Path(TAGS_PQ).exists():\n",
    "    # Remove all null tags\n",
    "    print(\"Saving {}...\".format(TAGS_PQ))\n",
    "    tags_rows = posts.filter(posts['Tags'] != \"null\")\n",
    "    tags = tags_rows.select(tags_rows['Tags'])\n",
    "    tags.write.save(TAGS_PQ)\n",
    "\n",
    "# Read previously saved files\n",
    "questions_df = spark.read.parquet(QUESTIONS_PQ)\n",
    "tags_df = spark.read.parquet(TAGS_PQ)\n",
    "tags_rdd = tags_df.rdd"
   ]
  },
  {
   "cell_type": "code",
   "execution_count": 11,
   "metadata": {},
   "outputs": [],
   "source": [
    "# Get number of all tags\n",
    "all_tags = tags_rdd.flatMap(lambda x: re.findall(r'<(.*?)>', x[0]))\n",
    "all_tags_distinct = all_tags.distinct()\n",
    "nb_tags = all_tags_distinct.count()"
   ]
  },
  {
   "cell_type": "code",
   "execution_count": 12,
   "metadata": {},
   "outputs": [],
   "source": [
    "question_tags_rdd = questions_df.select(questions_df['Tags']).rdd\n",
    "# Get all tags from the questions\n",
    "question_tags = question_tags_rdd.flatMap(lambda x: re.findall(r'<(.*?)>', x[0])) \\\n",
    "                                 .map(lambda x: (x, 1)) \n",
    "questions_tags_frequence = question_tags.reduceByKey(lambda x, y: x + y)"
   ]
  },
  {
   "cell_type": "code",
   "execution_count": 37,
   "metadata": {},
   "outputs": [
    {
     "name": "stdout",
     "output_type": "stream",
     "text": [
      "There are 67.97939389364834 % of tags that appear in less than 100 questions\n"
     ]
    }
   ],
   "source": [
    "# Calculate the proportion of tags that appear in less than 100 questions\n",
    "all_questions_tags_count = questions_tags_frequence.count()\n",
    "less_than_100_questions = questions_tags_frequence.filter(lambda x: int(x[1]) < 100)\n",
    "less_than_100_questions_count = less_than_100_questions.count()\n",
    "less_than_100_questions_proportion = less_than_100_questions_count / nb_tags * 100\n",
    "print(\"There are {} % of tags that appear in less than 100 questions\".format(less_than_100_questions_proportion))"
   ]
  },
  {
   "cell_type": "markdown",
   "metadata": {},
   "source": [
    "#### 2. Plot the distribution of the tag counts using an appropriate representation.\n",
    "\n",
    "1. Get the pandas dataframe of all the tags.\n",
    "2. Plot the histogram of all tags."
   ]
  },
  {
   "cell_type": "code",
   "execution_count": 13,
   "metadata": {},
   "outputs": [],
   "source": [
    "# Get all the tags count\n",
    "questions_tags_frequence_list = questions_tags_frequence.collect()"
   ]
  },
  {
   "cell_type": "code",
   "execution_count": 14,
   "metadata": {},
   "outputs": [
    {
     "data": {
      "text/html": [
       "<div>\n",
       "<style scoped>\n",
       "    .dataframe tbody tr th:only-of-type {\n",
       "        vertical-align: middle;\n",
       "    }\n",
       "\n",
       "    .dataframe tbody tr th {\n",
       "        vertical-align: top;\n",
       "    }\n",
       "\n",
       "    .dataframe thead th {\n",
       "        text-align: right;\n",
       "    }\n",
       "</style>\n",
       "<table border=\"1\" class=\"dataframe\">\n",
       "  <thead>\n",
       "    <tr style=\"text-align: right;\">\n",
       "      <th></th>\n",
       "      <th>Frequence</th>\n",
       "    </tr>\n",
       "  </thead>\n",
       "  <tbody>\n",
       "    <tr>\n",
       "      <th>19032</th>\n",
       "      <td>1585495</td>\n",
       "    </tr>\n",
       "    <tr>\n",
       "      <th>15218</th>\n",
       "      <td>1352735</td>\n",
       "    </tr>\n",
       "    <tr>\n",
       "      <th>3803</th>\n",
       "      <td>1172492</td>\n",
       "    </tr>\n",
       "    <tr>\n",
       "      <th>22841</th>\n",
       "      <td>1136082</td>\n",
       "    </tr>\n",
       "    <tr>\n",
       "      <th>22836</th>\n",
       "      <td>1088811</td>\n",
       "    </tr>\n",
       "  </tbody>\n",
       "</table>\n",
       "</div>"
      ],
      "text/plain": [
       "       Frequence\n",
       "19032    1585495\n",
       "15218    1352735\n",
       "3803     1172492\n",
       "22841    1136082\n",
       "22836    1088811"
      ]
     },
     "execution_count": 14,
     "metadata": {},
     "output_type": "execute_result"
    }
   ],
   "source": [
    "# Create pandas data frame\n",
    "questions_tags_count = [i[1] for i in questions_tags_frequence_list]\n",
    "questions_tags_frequence_df = pd.DataFrame(data=questions_tags_count, columns=['Frequence'])\n",
    "questions_tags_frequence_df.sort_values(by='Frequence', ascending=False).head()"
   ]
  },
  {
   "cell_type": "code",
   "execution_count": 15,
   "metadata": {},
   "outputs": [
    {
     "data": {
      "text/plain": [
       "<matplotlib.axes._subplots.AxesSubplot at 0x10d752208>"
      ]
     },
     "execution_count": 15,
     "metadata": {},
     "output_type": "execute_result"
    },
    {
     "data": {
      "image/png": "[encoded data removed]",
      "text/plain": [
       "<Figure size 1008x720 with 1 Axes>"
      ]
     },
     "metadata": {},
     "output_type": "display_data"
    }
   ],
   "source": [
    "# Sort by frequence of each tags\n",
    "questions_tags_frequence_df.plot.hist(title='Tags count distribution', figsize= (14, 10), bins=100)"
   ]
  },
  {
   "cell_type": "markdown",
   "metadata": {},
   "source": [
    "We notice that most (around 68%) of the tags are used than less than 100 questions. It is therefore normal to observe that ther are a huge bar for all the tags that are use less than 100 times, and some almost inexistant bars after that for the rest of the tags that are used very frequently."
   ]
  },
  {
   "cell_type": "markdown",
   "metadata": {},
   "source": [
    "#### 3. Plot a bar chart with the number of questions for the 10 most popular tags.\n",
    "1. Sort the questions_tags_frequence by the number of times present in the questions\n",
    "2. Take the top ten (tags, frequence)\n",
    "3. Plot the bar chart with pandas df."
   ]
  },
  {
   "cell_type": "code",
   "execution_count": 25,
   "metadata": {},
   "outputs": [],
   "source": [
    "# Take top 10 tags from the questions tags\n",
    "top_10_tags = questions_tags_frequence.sortBy(lambda r: r[1], ascending = False).take(10)"
   ]
  },
  {
   "cell_type": "code",
   "execution_count": 33,
   "metadata": {},
   "outputs": [
    {
     "data": {
      "text/plain": [
       "<matplotlib.axes._subplots.AxesSubplot at 0x10f0bb240>"
      ]
     },
     "execution_count": 33,
     "metadata": {},
     "output_type": "execute_result"
    },
    {
     "data": {
      "image/png": "[encoded data removed]",
      "text/plain": [
       "<Figure size 432x288 with 1 Axes>"
      ]
     },
     "metadata": {},
     "output_type": "display_data"
    }
   ],
   "source": [
    "top_10_tags_df = pd.DataFrame(data=top_10_tags, columns=['Tag', 'Frequence'])\n",
    "top_10_tags_df.plot.bar(x='Tag', y='Frequence', rot=90, title='Top 10 Tags')"
   ]
  },
  {
   "cell_type": "markdown",
   "metadata": {},
   "source": [
    "### Task C: View-score relation\n",
    "\n",
    "We want to investigate the correlation between the view count and the score of questions.\n",
    "\n",
    "1. Get the view count and score of the questions with tag ```random-effects``` and visualize the relation between these two variables using an appropriate plot.\n",
    "2. Are these two variables correlated? Use the Pearson coefficient to validate your hypothesis. Discuss your findings in detail.\n",
    "\n",
    "**Hint:** Inspect the data visually before drawing your conclusions."
   ]
  },
  {
   "cell_type": "markdown",
   "metadata": {},
   "source": [
    "#### 1. Get the view count and score of the questions with tag random-effects and visualize the relation between these two variables using an appropriate plot.\n",
    "1. Get all the question rows with random-effets as tag.\n",
    "2. Extract the view count and the scores from questions.\n",
    "3. Plot a scatter plot to show the relationship."
   ]
  },
  {
   "cell_type": "code",
   "execution_count": 79,
   "metadata": {},
   "outputs": [],
   "source": [
    "# Get all the question rows with random-effect as tag\n",
    "random_effets_df = questions_df.select(\"Tags\", \"Score\", \"ViewCount\")\\\n",
    "                               .filter(questions_df.Tags.like('%random-effects%'))\n",
    "\n",
    "random_effets_pd_df = random_effets_df.toPandas()"
   ]
  },
  {
   "cell_type": "code",
   "execution_count": 80,
   "metadata": {},
   "outputs": [
    {
     "data": {
      "text/plain": [
       "Score\n",
       "-2      1\n",
       "-1      1\n",
       " 0     49\n",
       " 1     27\n",
       " 2     10\n",
       " 3      2\n",
       " 4      3\n",
       " 5      1\n",
       " 6      2\n",
       " 7      1\n",
       " 8      1\n",
       " 25     1\n",
       " 31     1\n",
       "dtype: int64"
      ]
     },
     "execution_count": 80,
     "metadata": {},
     "output_type": "execute_result"
    }
   ],
   "source": [
    "# Count the number of questions random_effect questions per score\n",
    "random_effets_pd_df.groupby(random_effets_pd_df.Score).size()"
   ]
  },
  {
   "cell_type": "code",
   "execution_count": 81,
   "metadata": {},
   "outputs": [
    {
     "data": {
      "text/plain": [
       "<matplotlib.axes._subplots.AxesSubplot at 0x11b747358>"
      ]
     },
     "execution_count": 81,
     "metadata": {},
     "output_type": "execute_result"
    },
    {
     "data": {
      "image/png": "[encoded data removed]",
      "text/plain": [
       "<Figure size 1008x720 with 1 Axes>"
      ]
     },
     "metadata": {},
     "output_type": "display_data"
    }
   ],
   "source": [
    "random_effets_pd_df.plot.scatter(x=\"Score\", y=\"ViewCount\", figsize=(14, 10), title=\"ViewCount per Score for questions on StackOverflow\")"
   ]
  },
  {
   "cell_type": "markdown",
   "metadata": {},
   "source": [
    "#### Follow up: \n",
    "We see that most of the questions have a score between 0, 1 and 2 from the results given by the groupby function above. All the questions having a score lower than 10 do not attain more than 10 000 views. We also notice that there are only 2 questions having a score of 25 and 31 respectively, also have a extremely high view counts. This somehow hints at a correlation existing between the 2 variables - the higher the score, the more likely people will to come consult the question; the more views the question get, the higher the change people vote to add a point on the score. "
   ]
  },
  {
   "cell_type": "markdown",
   "metadata": {},
   "source": [
    "#### 2. Are these two variables correlated? Use the Pearson coefficient to validate your hypothesis. Discuss your findings in detail.\n",
    "1. Calculate the Pearson coefficient.\n",
    "2. Discussion (see below)"
   ]
  },
  {
   "cell_type": "code",
   "execution_count": 73,
   "metadata": {},
   "outputs": [
    {
     "data": {
      "text/html": [
       "<div>\n",
       "<style scoped>\n",
       "    .dataframe tbody tr th:only-of-type {\n",
       "        vertical-align: middle;\n",
       "    }\n",
       "\n",
       "    .dataframe tbody tr th {\n",
       "        vertical-align: top;\n",
       "    }\n",
       "\n",
       "    .dataframe thead th {\n",
       "        text-align: right;\n",
       "    }\n",
       "</style>\n",
       "<table border=\"1\" class=\"dataframe\">\n",
       "  <thead>\n",
       "    <tr style=\"text-align: right;\">\n",
       "      <th></th>\n",
       "      <th>Score</th>\n",
       "      <th>ViewCount</th>\n",
       "    </tr>\n",
       "  </thead>\n",
       "  <tbody>\n",
       "    <tr>\n",
       "      <th>Score</th>\n",
       "      <td>1.000000</td>\n",
       "      <td>0.882197</td>\n",
       "    </tr>\n",
       "    <tr>\n",
       "      <th>ViewCount</th>\n",
       "      <td>0.882197</td>\n",
       "      <td>1.000000</td>\n",
       "    </tr>\n",
       "  </tbody>\n",
       "</table>\n",
       "</div>"
      ],
      "text/plain": [
       "              Score  ViewCount\n",
       "Score      1.000000   0.882197\n",
       "ViewCount  0.882197   1.000000"
      ]
     },
     "execution_count": 73,
     "metadata": {},
     "output_type": "execute_result"
    }
   ],
   "source": [
    "random_effets_pd_df.corr(method='pearson')"
   ]
  },
  {
   "cell_type": "markdown",
   "metadata": {},
   "source": [
    "Effectively, these 2 variables have a high Pearson linear correlation. As said in the previous questions, there exists a fairly strong correlation between these 2 variables: the higher the score, the more likely people will to come consult the question; the more views the question get, the higher the change people vote to add a point on the score. "
   ]
  },
  {
   "cell_type": "markdown",
   "metadata": {},
   "source": [
    "### Task D: What are the tags with the fastest first answer?\n",
    "\n",
    "What are the tags that have the fastest response time from the community? We define the response time as the difference in seconds between the timestamps of the question and of the first answer received.\n",
    "\n",
    "1. Get the response time for the first answer of the questions with the tags ```python``` and ```java```.\n",
    "2. Plot the two distributions in an appropriate format. What do you observe? Describe your findings and discuss the following distribution properties: mean, median, standard deviation.\n",
    "3. We believe that the response time is lower for questions related to Python (compare to Java). Contradict or confirm this assumption by estimating the proper statistic with bootstrapping. Visualize the 95% confidence intervals with box plots and describe your findings.\n",
    "3. Repeat the first analysis (D1) by using the proper statistic to measure the response time for the tags that appear at least 5000 times. Plot the distribution of the 10 tags with the fastest response time.\n"
   ]
  },
  {
   "cell_type": "markdown",
   "metadata": {},
   "source": [
    "#### 1. Get the response time for the first answer of the questions with the tags python and java.\n",
    "1. Filter the questions having python and java in the tags.\n",
    "2. Find the corresponding answer that is answered at the earliest time.\n",
    "3. Select the response time column."
   ]
  },
  {
   "cell_type": "code",
   "execution_count": 9,
   "metadata": {},
   "outputs": [],
   "source": [
    "# Filter out the answers\n",
    "answers = posts.filter(posts['PostTypeId'] == 2)\n",
    "if not Path(ANSWERS_PQ).exists():\n",
    "    print(\"Saving {} ...\".format(ANSWERS_PQ))\n",
    "    answers.write.save(ANSWERS_PQ)\n",
    "\n",
    "answers_id = answers.select(\"CreationDate\", \"ParentId\")"
   ]
  },
  {
   "cell_type": "code",
   "execution_count": 10,
   "metadata": {},
   "outputs": [],
   "source": [
    "# Filter all the questions having java as tag\n",
    "questions_java = questions_df.filter(questions_df.Tags.like('%<java>%'))\n",
    "questions_java_Id = questions_java.withColumnRenamed(\"Id\", \"Question_Id\").withColumnRenamed(\"CreationDate\", \"CreationDate_Question\").select(\"Question_Id\", \"CreationDate_Question\")\n",
    "questions_java_answers = answers.join(questions_java_Id, answers.ParentId == questions_java_Id.Question_Id)\n",
    "# Convert to pandas dataframe for easier manipulation\n",
    "first_questions_java_answers_pd = questions_java_answers.toPandas()"
   ]
  },
  {
   "cell_type": "code",
   "execution_count": 11,
   "metadata": {},
   "outputs": [],
   "source": [
    "# Transform into DateTime\n",
    "first_questions_java_answers_pd['CreationDate'] =  pd.to_datetime(first_questions_java_answers_pd['CreationDate'])\n",
    "first_questions_java_answers_pd['CreationDate_Question'] =  pd.to_datetime(first_questions_java_answers_pd['CreationDate_Question'])\n",
    "# Sort and groupby to get the first answered \n",
    "first_questions_java_time = first_questions_java_answers_pd.sort_values(by=['Question_Id', 'CreationDate']).groupby('Question_Id').head(1)"
   ]
  },
  {
   "cell_type": "markdown",
   "metadata": {},
   "source": [
    "We noticed that there are anomalies: some questions' creation date is before the Response's creation date. An example is shown below. The question having questionId 15228742 should have been asked in year 2013, but it has been answered in 2010, which doesn't make sense. "
   ]
  },
  {
   "cell_type": "code",
   "execution_count": 113,
   "metadata": {},
   "outputs": [
    {
     "data": {
      "text/html": [
       "<div>\n",
       "<style scoped>\n",
       "    .dataframe tbody tr th:only-of-type {\n",
       "        vertical-align: middle;\n",
       "    }\n",
       "\n",
       "    .dataframe tbody tr th {\n",
       "        vertical-align: top;\n",
       "    }\n",
       "\n",
       "    .dataframe thead th {\n",
       "        text-align: right;\n",
       "    }\n",
       "</style>\n",
       "<table border=\"1\" class=\"dataframe\">\n",
       "  <thead>\n",
       "    <tr style=\"text-align: right;\">\n",
       "      <th></th>\n",
       "      <th>CreationDate</th>\n",
       "      <th>Id</th>\n",
       "      <th>ParentId</th>\n",
       "      <th>PostTypeId</th>\n",
       "      <th>Score</th>\n",
       "      <th>Tags</th>\n",
       "      <th>Title</th>\n",
       "      <th>ViewCount</th>\n",
       "      <th>Question_Id</th>\n",
       "      <th>CreationDate_Question</th>\n",
       "    </tr>\n",
       "  </thead>\n",
       "  <tbody>\n",
       "    <tr>\n",
       "      <th>943069</th>\n",
       "      <td>2010-01-04 18:46:16.307</td>\n",
       "      <td>2001707</td>\n",
       "      <td>15228742</td>\n",
       "      <td>2</td>\n",
       "      <td>0</td>\n",
       "      <td>None</td>\n",
       "      <td>None</td>\n",
       "      <td>None</td>\n",
       "      <td>15228742</td>\n",
       "      <td>2013-03-05 15:15:03.503</td>\n",
       "    </tr>\n",
       "  </tbody>\n",
       "</table>\n",
       "</div>"
      ],
      "text/plain": [
       "                  CreationDate       Id  ParentId  PostTypeId  Score  Tags  \\\n",
       "943069 2010-01-04 18:46:16.307  2001707  15228742           2      0  None   \n",
       "\n",
       "       Title ViewCount  Question_Id   CreationDate_Question  \n",
       "943069  None      None     15228742 2013-03-05 15:15:03.503  "
      ]
     },
     "execution_count": 113,
     "metadata": {},
     "output_type": "execute_result"
    }
   ],
   "source": [
    "first_questions_java_time.loc[first_questions_java_answers_pd.Question_Id == 15228742]"
   ]
  },
  {
   "cell_type": "code",
   "execution_count": 114,
   "metadata": {},
   "outputs": [
    {
     "name": "stdout",
     "output_type": "stream",
     "text": [
      "+--------+-----------------------------+-----------------------------------+\n",
      "|Id      |CreationDate                 |Title                              |\n",
      "+--------+-----------------------------+-----------------------------------+\n",
      "|15228742|2013-03-05T16:15:03.503+01:00|Or operand with int in if statement|\n",
      "+--------+-----------------------------+-----------------------------------+\n",
      "\n"
     ]
    }
   ],
   "source": [
    "questions_df.filter(questions_df['Id'] == 15228742).select('Id', 'CreationDate', 'Title').show(1, False)"
   ]
  },
  {
   "cell_type": "markdown",
   "metadata": {},
   "source": [
    "We have found the corresponding question from StackOverflow:\n",
    "\n",
    "**Notice that the comments under the question date from 2010, while the question was asked in 2013**.\n",
    "<img src=\"Question 15228742.png\">"
   ]
  },
  {
   "cell_type": "code",
   "execution_count": 123,
   "metadata": {},
   "outputs": [
    {
     "data": {
      "text/html": [
       "<div>\n",
       "<style scoped>\n",
       "    .dataframe tbody tr th:only-of-type {\n",
       "        vertical-align: middle;\n",
       "    }\n",
       "\n",
       "    .dataframe tbody tr th {\n",
       "        vertical-align: top;\n",
       "    }\n",
       "\n",
       "    .dataframe thead th {\n",
       "        text-align: right;\n",
       "    }\n",
       "</style>\n",
       "<table border=\"1\" class=\"dataframe\">\n",
       "  <thead>\n",
       "    <tr style=\"text-align: right;\">\n",
       "      <th></th>\n",
       "      <th>CreationDate</th>\n",
       "      <th>Id</th>\n",
       "      <th>ParentId</th>\n",
       "      <th>PostTypeId</th>\n",
       "      <th>Score</th>\n",
       "      <th>Tags</th>\n",
       "      <th>Title</th>\n",
       "      <th>ViewCount</th>\n",
       "      <th>Question_Id</th>\n",
       "      <th>CreationDate_Question</th>\n",
       "      <th>Response_Time_Java</th>\n",
       "    </tr>\n",
       "  </thead>\n",
       "  <tbody>\n",
       "    <tr>\n",
       "      <th>943069</th>\n",
       "      <td>2010-01-04 18:46:16.307</td>\n",
       "      <td>2001707</td>\n",
       "      <td>15228742</td>\n",
       "      <td>2</td>\n",
       "      <td>0</td>\n",
       "      <td>None</td>\n",
       "      <td>None</td>\n",
       "      <td>None</td>\n",
       "      <td>15228742</td>\n",
       "      <td>2013-03-05 15:15:03.503</td>\n",
       "      <td>-1156 days +03:31:12.804000</td>\n",
       "    </tr>\n",
       "    <tr>\n",
       "      <th>1437873</th>\n",
       "      <td>2008-09-18 18:39:32.130</td>\n",
       "      <td>96693</td>\n",
       "      <td>7101992</td>\n",
       "      <td>2</td>\n",
       "      <td>3</td>\n",
       "      <td>None</td>\n",
       "      <td>None</td>\n",
       "      <td>None</td>\n",
       "      <td>7101992</td>\n",
       "      <td>2011-08-18 01:19:01.337</td>\n",
       "      <td>-1064 days +17:20:30.793000</td>\n",
       "    </tr>\n",
       "    <tr>\n",
       "      <th>205236</th>\n",
       "      <td>2009-08-31 00:34:58.873</td>\n",
       "      <td>1355579</td>\n",
       "      <td>7456462</td>\n",
       "      <td>2</td>\n",
       "      <td>2</td>\n",
       "      <td>None</td>\n",
       "      <td>None</td>\n",
       "      <td>None</td>\n",
       "      <td>7456462</td>\n",
       "      <td>2011-09-17 15:10:04.460</td>\n",
       "      <td>-748 days +09:24:54.413000</td>\n",
       "    </tr>\n",
       "    <tr>\n",
       "      <th>814479</th>\n",
       "      <td>2008-11-09 08:57:29.877</td>\n",
       "      <td>275787</td>\n",
       "      <td>2206378</td>\n",
       "      <td>2</td>\n",
       "      <td>-2</td>\n",
       "      <td>None</td>\n",
       "      <td>None</td>\n",
       "      <td>None</td>\n",
       "      <td>2206378</td>\n",
       "      <td>2010-02-05 09:00:57.553</td>\n",
       "      <td>-454 days +23:56:32.324000</td>\n",
       "    </tr>\n",
       "    <tr>\n",
       "      <th>568732</th>\n",
       "      <td>2011-08-14 10:24:48.410</td>\n",
       "      <td>7056782</td>\n",
       "      <td>13102045</td>\n",
       "      <td>2</td>\n",
       "      <td>168</td>\n",
       "      <td>None</td>\n",
       "      <td>None</td>\n",
       "      <td>None</td>\n",
       "      <td>13102045</td>\n",
       "      <td>2012-10-27 14:37:01.840</td>\n",
       "      <td>-441 days +19:47:46.570000</td>\n",
       "    </tr>\n",
       "  </tbody>\n",
       "</table>\n",
       "</div>"
      ],
      "text/plain": [
       "                   CreationDate       Id  ParentId  PostTypeId  Score  Tags  \\\n",
       "943069  2010-01-04 18:46:16.307  2001707  15228742           2      0  None   \n",
       "1437873 2008-09-18 18:39:32.130    96693   7101992           2      3  None   \n",
       "205236  2009-08-31 00:34:58.873  1355579   7456462           2      2  None   \n",
       "814479  2008-11-09 08:57:29.877   275787   2206378           2     -2  None   \n",
       "568732  2011-08-14 10:24:48.410  7056782  13102045           2    168  None   \n",
       "\n",
       "        Title ViewCount  Question_Id   CreationDate_Question  \\\n",
       "943069   None      None     15228742 2013-03-05 15:15:03.503   \n",
       "1437873  None      None      7101992 2011-08-18 01:19:01.337   \n",
       "205236   None      None      7456462 2011-09-17 15:10:04.460   \n",
       "814479   None      None      2206378 2010-02-05 09:00:57.553   \n",
       "568732   None      None     13102045 2012-10-27 14:37:01.840   \n",
       "\n",
       "                 Response_Time_Java  \n",
       "943069  -1156 days +03:31:12.804000  \n",
       "1437873 -1064 days +17:20:30.793000  \n",
       "205236   -748 days +09:24:54.413000  \n",
       "814479   -454 days +23:56:32.324000  \n",
       "568732   -441 days +19:47:46.570000  "
      ]
     },
     "execution_count": 123,
     "metadata": {},
     "output_type": "execute_result"
    }
   ],
   "source": [
    "# Calculate response time\n",
    "first_questions_java_time[\"Response_Time_Java\"] = first_questions_java_time.CreationDate - first_questions_java_time.CreationDate_Question\n",
    "Response_Time_Java = first_questions_java_time.CreationDate - first_questions_java_time.CreationDate_Question\n",
    "first_questions_java_time.sort_values(by='Response_Time_Java').head()"
   ]
  },
  {
   "cell_type": "markdown",
   "metadata": {},
   "source": [
    "As we see above, because of Question's creation date > Answer Creation Date, we get negative response time (which doesn't make sense. Therefore we decided to drop these rows."
   ]
  },
  {
   "cell_type": "code",
   "execution_count": 125,
   "metadata": {},
   "outputs": [
    {
     "name": "stdout",
     "output_type": "stream",
     "text": [
      "Here are some examples of the response time for questions having Java as tag:\n"
     ]
    },
    {
     "data": {
      "text/plain": [
       "1074681   00:22:51.077000\n",
       "1221662   00:00:20.890000\n",
       "89803     00:08:10.657000\n",
       "1334378   01:35:42.067000\n",
       "135102    00:15:26.474000\n",
       "dtype: timedelta64[ns]"
      ]
     },
     "execution_count": 125,
     "metadata": {},
     "output_type": "execute_result"
    }
   ],
   "source": [
    "# Filter out negative Response Time\n",
    "Response_Time_Java = Response_Time_Java[Response_Time_Java > pd.Timedelta(0)]\n",
    "\n",
    "print(\"Here are some examples of the response time for questions having Java as tag:\")\n",
    "Response_Time_Java.head(5)"
   ]
  },
  {
   "cell_type": "markdown",
   "metadata": {},
   "source": [
    "Now we do the same process for questions with tag `<python>`."
   ]
  },
  {
   "cell_type": "code",
   "execution_count": 22,
   "metadata": {},
   "outputs": [],
   "source": [
    "# Filter all the questions having python as tag\n",
    "questions_python = questions_df.filter(questions_df.Tags.like('%<python>%'))\n",
    "questions_python_Id = questions_python.withColumnRenamed(\"Id\", \"Question_Id\").withColumnRenamed(\"CreationDate\", \"CreationDate_Question\").select(\"Question_Id\", \"CreationDate_Question\")\n",
    "questions_python_answers = answers.join(questions_python_Id, answers.ParentId == questions_python_Id.Question_Id)\n",
    "# Convert to pandas dataframe for easier manipulation\n",
    "first_questions_python_answers_pd = questions_python_answers.toPandas()"
   ]
  },
  {
   "cell_type": "code",
   "execution_count": 23,
   "metadata": {},
   "outputs": [],
   "source": [
    "# Transform into date time\n",
    "first_questions_python_answers_pd['CreationDate'] =  pd.to_datetime(first_questions_python_answers_pd['CreationDate'])\n",
    "first_questions_python_answers_pd['CreationDate_Question'] =  pd.to_datetime(first_questions_python_answers_pd['CreationDate_Question'])\n",
    "\n",
    "# Sort by Date first, then take the first answer per each group of questions\n",
    "first_questions_python_time = first_questions_python_answers_pd.sort_values(by= ['Question_Id', 'CreationDate']).groupby('Question_Id').head(1)"
   ]
  },
  {
   "cell_type": "code",
   "execution_count": 24,
   "metadata": {},
   "outputs": [
    {
     "name": "stdout",
     "output_type": "stream",
     "text": [
      "Here are the response time for questions having Python as tag: \n"
     ]
    },
    {
     "data": {
      "text/plain": [
       "1456106   01:45:37.463000\n",
       "44141     01:47:09.240000\n",
       "745855    00:13:01.673000\n",
       "1134721   00:02:27.886000\n",
       "694648    01:11:33.867000\n",
       "dtype: timedelta64[ns]"
      ]
     },
     "execution_count": 24,
     "metadata": {},
     "output_type": "execute_result"
    }
   ],
   "source": [
    "# Calculate response time\n",
    "Response_Time_Python = first_questions_python_time.CreationDate - first_questions_python_time.CreationDate_Question\n",
    "# Filter out negative response time\n",
    "Response_Time_Python = Response_Time_Python[Response_Time_Python > pd.Timedelta(0)]\n",
    "\n",
    "print(\"Here are the response time for questions having Python as tag: \")\n",
    "Response_Time_Python.head(5)"
   ]
  },
  {
   "cell_type": "markdown",
   "metadata": {},
   "source": [
    "#### 2. Plot the two distributions in an appropriate format. What do you observe? Describe your findings and discuss the following distribution properties: mean, median, standard deviation.\n",
    "\n",
    "We see that the majority of the questions received their first reply very quickly. This show that StackOverflow has an active community. In fact, the statictics (mean, median, std) for Java and Python questions are quite similar. The std for Java is slightly larger than the Python one, but their means are very close."
   ]
  },
  {
   "cell_type": "code",
   "execution_count": 129,
   "metadata": {},
   "outputs": [
    {
     "name": "stdout",
     "output_type": "stream",
     "text": [
      "mean: 11 days 13:27:45.370319\n",
      "median: 0 days 00:20:24.132000\n",
      "std: 82 days 13:23:48.127366\n"
     ]
    }
   ],
   "source": [
    "# JAVA - Find mean, median,std\n",
    "print(\"mean: {}\\nmedian: {}\\nstd: {}\".format(Response_Time_Java.mean(), Response_Time_Java.median(), Response_Time_Java.std()))"
   ]
  },
  {
   "cell_type": "code",
   "execution_count": 130,
   "metadata": {},
   "outputs": [
    {
     "name": "stdout",
     "output_type": "stream",
     "text": [
      "mean: 11 days 09:15:05.288521\n",
      "median: 0 days 00:22:36.932000\n",
      "std: 79 days 22:59:45.400525\n"
     ]
    }
   ],
   "source": [
    "# PYTHON - Find mean, median,std\n",
    "print(\"mean: {}\\nmedian: {}\\nstd: {}\".format(Response_Time_Python.mean(), Response_Time_Python.median(), Response_Time_Python.std()))\n"
   ]
  },
  {
   "cell_type": "code",
   "execution_count": 131,
   "metadata": {},
   "outputs": [
    {
     "data": {
      "image/png": "[encoded data removed]",
      "text/plain": [
       "<Figure size 432x288 with 1 Axes>"
      ]
     },
     "metadata": {},
     "output_type": "display_data"
    }
   ],
   "source": [
    "# JAVA - Convert to minutes and plot\n",
    "Response_Time_Java_min =  Response_Time_Java / pd.Timedelta(minutes=1)\n",
    "ax_java = Response_Time_Java_min.plot.hist()\n",
    "ax_java = ax_java.set_xlabel(\"Response Time (minutes)\")"
   ]
  },
  {
   "cell_type": "code",
   "execution_count": 132,
   "metadata": {},
   "outputs": [
    {
     "data": {
      "image/png": "[encoded data removed]",
      "text/plain": [
       "<Figure size 432x288 with 1 Axes>"
      ]
     },
     "metadata": {},
     "output_type": "display_data"
    }
   ],
   "source": [
    "# PYTHON - Convert to minutes and plot\n",
    "Response_Time_Python_min = Response_Time_Python / pd.Timedelta(minutes=1)\n",
    "ax_py = Response_Time_Python_min.plot.hist()\n",
    "ax_py = ax_py.set_xlabel(\"Response Time (minutes)\")"
   ]
  },
  {
   "cell_type": "markdown",
   "metadata": {},
   "source": [
    "#### 3. We believe that the response time is lower for questions related to Python (compare to Java). Contradict or confirm this assumption by estimating the proper statistic with bootstrapping. Visualize the 95% confidence intervals with box plots and describe your findings.\n",
    "\n",
    "We choose 100 groups of samples, each containing 100 samples.\n",
    "\n",
    "We are using Means and Medians, because median is more robust than mean."
   ]
  },
  {
   "cell_type": "code",
   "execution_count": 192,
   "metadata": {},
   "outputs": [],
   "source": [
    "def bootstraping(data, nb_grs = 1000):\n",
    "    \"\"\"Function perform bootstrapping\n",
    "       Samples 1000 groups with 1000 samples per group\n",
    "       Returns Means and Medians of each sample \n",
    "    \"\"\"\n",
    "    medians = []\n",
    "    means = []\n",
    "    stds = []\n",
    "    \n",
    "    nb_samples = len(data)\n",
    "    for i in range(nb_grs):\n",
    "        sample = data.sample(nb_samples, replace=True)\n",
    "        means.append(sample.mean())\n",
    "        medians.append(sample.median())\n",
    "        stds.append(sample.std())\n",
    "    \n",
    "    return pd.DataFrame(data = means, columns=['Mean']), pd.DataFrame(data = medians, columns=['Median']), stds\n",
    "\n",
    "java_means, java_medians, java_stds = bootstraping(Response_Time_Java_min)\n",
    "python_means, python_medians, python_stds = bootstraping(Response_Time_Python_min)\n"
   ]
  },
  {
   "cell_type": "markdown",
   "metadata": {},
   "source": [
    "We can see from the following plots that the difference between the means is larger; the difference between the std for Java and Python response timesare not that large (about 6 min)."
   ]
  },
  {
   "cell_type": "code",
   "execution_count": 193,
   "metadata": {},
   "outputs": [
    {
     "data": {
      "text/plain": [
       "<matplotlib.axes._subplots.AxesSubplot at 0x13ee84048>"
      ]
     },
     "execution_count": 193,
     "metadata": {},
     "output_type": "execute_result"
    },
    {
     "data": {
      "image/png": "[encoded data removed]",
      "text/plain": [
       "<Figure size 1440x720 with 4 Axes>"
      ]
     },
     "metadata": {},
     "output_type": "display_data"
    }
   ],
   "source": [
    "fig = plt.figure(figsize=(20,10))\n",
    "\n",
    "# Divide into 4 sections\n",
    "ax11 = fig.add_subplot(221)\n",
    "ax12 = fig.add_subplot(222)\n",
    "ax21 = fig.add_subplot(223)\n",
    "ax22 = fig.add_subplot(224)\n",
    "\n",
    "java_means.plot.hist(bins=100, title=\"Java mean\", ax=ax11)\n",
    "java_medians.plot.hist(bins=100, title=\"Java median\", ax=ax21)\n",
    "\n",
    "python_means.plot.hist(bins=100, title=\"Python mean\", ax=ax12)\n",
    "python_medians.plot.hist(bins=100, title=\"Python median\", ax=ax22)"
   ]
  },
  {
   "cell_type": "code",
   "execution_count": 208,
   "metadata": {},
   "outputs": [
    {
     "name": "stdout",
     "output_type": "stream",
     "text": [
      "The observed test statistics are: \n",
      "t-mean:[1.5009654135436237]; t-median:[-0.013148227666329641]\n"
     ]
    }
   ],
   "source": [
    "def compute_test_stat(java, python, java_std, python_std):\n",
    "    ts = []\n",
    "    n1 = len(Response_Time_Java_min)\n",
    "    n2 = len(Response_Time_Python_min)\n",
    "    for j, p, js, ps in zip(java, python, java_std, python_std):\n",
    "        # compute std\n",
    "        std_p = np.sqrt(((n1-1)* (float(js)**2) + (n2-1) * (float(ps)**2))/(n1 + n2 - 2))\n",
    "        # compute test statistics\n",
    "        t = (j - p) / (std_p * np.sqrt(1/n1 + 1/n2))\n",
    "        ts.append(t)\n",
    "    return ts\n",
    "\n",
    "obs_mean = compute_test_stat([Response_Time_Java_min.mean()], [Response_Time_Python_min.mean()], [Response_Time_Java_min.std()], [Response_Time_Python_min.std()])\n",
    "obs_median = compute_test_stat([Response_Time_Java_min.median()], [Response_Time_Python_min.median()], [Response_Time_Java_min.std()], [Response_Time_Python_min.std()])\n",
    "print(\"The observed test statistics are: \\nt-mean:{}; t-median:{}\".format(obs_mean, obs_median))"
   ]
  },
  {
   "cell_type": "code",
   "execution_count": null,
   "metadata": {},
   "outputs": [],
   "source": [
    "# Let's continue our calculation for test statistics\n",
    "# Calculate the difference\n",
    "means_diff = java_means - python_means\n",
    "median_diff = java_medians - python_medians\n",
    "\n",
    "# Check if the java_means are actually larger than the python means / medians \n",
    "# - i.e. the diff between means/medians java - python > 0\n",
    "p_mean = len(means_diff[means_diff.Mean > 0]) / len(means_diff)\n",
    "p_median = len(median_diff[median_diff.Median > 0]) / len(median_diff)\n",
    "\n",
    "print(\"For difference in mean, there are {}% of the samples where there is a difference for \")"
   ]
  },
  {
   "cell_type": "code",
   "execution_count": 212,
   "metadata": {},
   "outputs": [
    {
     "data": {
      "text/plain": [
       "(0.926, 0.0, 0.305, 0.0)"
      ]
     },
     "execution_count": 212,
     "metadata": {},
     "output_type": "execute_result"
    }
   ],
   "source": [
    "# Test-values\n",
    "ts_mean = compute_test_stat(java_means.Mean.tolist(), python_means.Mean.tolist(), java_stds, python_stds)\n",
    "ts_median = compute_test_stat(java_medians.Median.tolist(), python_medians.Median.tolist(), java_stds, python_stds)\n",
    "\n",
    "ts_mean_df = pd.DataFrame(data=ts_mean, columns=[\"Mean\"])\n",
    "ts_median_df = pd.DataFrame(data=ts_median, columns=[\"Median\"])\n",
    "\n",
    "p_ts_mean = len(ts_mean_df[ts_mean_df.Mean > 1.96]) / len(ts_mean_df)\n",
    "p_ts_median = len(ts_mean_df[ts_median_df.Median > 1.96]) / len(ts_median_df)\n",
    "\n",
    "p_mean, p_median, p_ts_mean, p_ts_median\n",
    "\n"
   ]
  },
  {
   "cell_type": "code",
   "execution_count": 213,
   "metadata": {},
   "outputs": [
    {
     "name": "stderr",
     "output_type": "stream",
     "text": [
      "/anaconda3/lib/python3.6/site-packages/ipykernel_launcher.py:2: FutureWarning: Method .as_matrix will be removed in a future version. Use .values instead.\n",
      "  \n",
      "/anaconda3/lib/python3.6/site-packages/ipykernel_launcher.py:5: FutureWarning: Method .as_matrix will be removed in a future version. Use .values instead.\n",
      "  \"\"\"\n"
     ]
    },
    {
     "name": "stdout",
     "output_type": "stream",
     "text": [
      "p-value = 0.06\n",
      "252.6680299646796\n"
     ]
    }
   ],
   "source": [
    "a = Response_Time_Python_min.to_frame()\n",
    "force_a = a.as_matrix(columns=a.columns[0:1]).flatten()\n",
    "\n",
    "b = Response_Time_Java_min.to_frame()\n",
    "force_b = b.as_matrix(columns=b.columns[0:1]).flatten()\n",
    "\n",
    "empirical_diff_means = np.mean(force_b) - np.mean(force_a)\n",
    "\n",
    "forces_concat = np.concatenate((force_a, force_b), axis=None)\n",
    "\n",
    "mean_force = np.mean(forces_concat)\n",
    "\n",
    "# Generate shifted arrays\n",
    "a_shifted = force_a - np.mean(force_a) + mean_force\n",
    "b_shifted = force_b - np.mean(force_b) + mean_force\n",
    "\n",
    "def find_reps(data, func, size=1):\n",
    "\n",
    "    # Initialize array of replicates: \n",
    "    bs_replicates = np.empty(size)\n",
    "\n",
    "    # Generate replicates\n",
    "    for i in range(size):\n",
    "        bs_replicates[i] = func(np.random.choice(data, size=len(data)))\n",
    "\n",
    "    return bs_replicates\n",
    "\n",
    "# Compute 1000 bootstrap replicates from shifted arrays\n",
    "bs_rep_a = find_reps(a_shifted, np.mean, size=100)\n",
    "bs_rep_b = find_reps(b_shifted, np.mean, size=100)\n",
    "\n",
    "# Get replicates of difference of means: bs_replicates\n",
    "bs_replicates = bs_rep_b - bs_rep_a\n",
    "\n",
    "# Compute and print p-value: p\n",
    "p = float(np.sum(bs_replicates >= empirical_diff_means) / len(bs_replicates))\n",
    "\n",
    "print('p-value =', p)\n",
    "print(empirical_diff_means)"
   ]
  },
  {
   "cell_type": "markdown",
   "metadata": {},
   "source": [
    "### Task E: What's up with PySpark?\n",
    "The number of questions asked regarding a specific topic reflect the public’s interest on it. We are interested on the popularity of PySpark. Compute and plot the number of questions with the ```pyspark``` tag for 30-day time intervals. Do you notice any trend over time? Is there any correlation between time and number of questions?\n"
   ]
  },
  {
   "cell_type": "code",
   "execution_count": 15,
   "metadata": {},
   "outputs": [],
   "source": [
    "# Select all the questions having pyspark as tag\n",
    "questions_pyspark = questions_df.filter(questions_df.Tags.like('%<pyspark>%')).select(\"CreationDate\")\n",
    "questions_pyspark_df = questions_pyspark.toPandas()"
   ]
  },
  {
   "cell_type": "code",
   "execution_count": 16,
   "metadata": {},
   "outputs": [
    {
     "data": {
      "text/plain": [
       "<matplotlib.axes._subplots.AxesSubplot at 0x14fb477f0>"
      ]
     },
     "execution_count": 16,
     "metadata": {},
     "output_type": "execute_result"
    },
    {
     "data": {
      "image/png": "[encoded data removed]",
      "text/plain": [
       "<Figure size 432x288 with 1 Axes>"
      ]
     },
     "metadata": {},
     "output_type": "display_data"
    }
   ],
   "source": [
    "# Only keep the date time\n",
    "questions_pyspark_df[\"CreationDate\"] = pd.to_datetime(questions_pyspark_df[\"CreationDate\"])\n",
    "# Count by 30 days interval\n",
    "questions_pyspark_per_30days = questions_pyspark_df.groupby(pd.Grouper(key=\"CreationDate\", freq='30D', label=\"left\")).size().reset_index(name=\"Counts\")\n",
    "questions_pyspark_per_30days.plot(x=\"CreationDate\", y=\"Counts\", title=\"PySpark tagged questions per 30-day time intervals\")\n"
   ]
  },
  {
   "cell_type": "markdown",
   "metadata": {},
   "source": [
    "We noticed that the number of questions tends to augment with time. The last drop at the end is caused by the fact that we don't have much data for the months of September, since the data collection ends at the beginning of september. There is certainly a positive correlation between time and the number of questions"
   ]
  },
  {
   "cell_type": "code",
   "execution_count": null,
   "metadata": {},
   "outputs": [],
   "source": []
  }
 ],
 "metadata": {
  "kernelspec": {
   "display_name": "Python 3",
   "language": "python",
   "name": "python3"
  },
  "language_info": {
   "codemirror_mode": {
    "name": "ipython",
    "version": 3
   },
   "file_extension": ".py",
   "mimetype": "text/x-python",
   "name": "python",
   "nbconvert_exporter": "python",
   "pygments_lexer": "ipython3",
   "version": "3.6.5"
  }
 },
 "nbformat": 4,
 "nbformat_minor": 2
}
