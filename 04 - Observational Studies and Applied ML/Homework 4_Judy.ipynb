{
 "cells": [
  {
   "cell_type": "markdown",
   "metadata": {},
   "source": [
    "## Assignment 4: Obsevational Studies and Applied ML\n",
    "\n",
    "### Deadline\n",
    "November 21st,11:59PM\n",
    "\n",
    "### Important notes\n",
    "\n",
    "Make sure you push on GitHub your notebook with all the cells already evaluated. Don't forget to add a textual description of your thought process, the assumptions you made, and the solution you implemented. Back up any hypotheses and claims with data, since this is an important aspect of the course. Please write all your comments in English, and use meaningful variable names in your code. Your repo should have a single notebook (plus the data files necessary) in the master branch. If there are multiple notebooks present, we will not grade anything.\n",
    "\n",
    "Use this legendary link to create your repository: [link](https://classroom.github.com/g/YXtsr0QK)"
   ]
  },
  {
   "cell_type": "code",
   "execution_count": 142,
   "metadata": {},
   "outputs": [],
   "source": [
    "# Put your imports here\n",
    "import pandas as pd\n",
    "import numpy as np\n",
    "import matplotlib.pyplot as plt\n",
    "from sklearn.linear_model import LinearRegression, LogisticRegression"
   ]
  },
  {
   "cell_type": "code",
   "execution_count": 2,
   "metadata": {},
   "outputs": [],
   "source": [
    "data_folder = './data/'\n",
    "animal_folder = './austin-animal-center-shelter-intakes-and-outcomes/'"
   ]
  },
  {
   "cell_type": "markdown",
   "metadata": {},
   "source": [
    "## Task 1: Boosting the economy by incentivizing self-employment\n",
    "\n",
    "Assume the biggest priority of the local government in 2018 is to increase per-capita income. To do so, the officials plan to adopt a strategy for incentivizing self-employment through a series of campaigns, educational programs, and dedicated funds.\n",
    "\n",
    "Since it is unethical and impossible in this setting to run a controlled experiment involving citizens (e.g., fire employees and force them to self-employ), the officials have asked you, the data scientist, to establish the effect of self-employment on the economy, relying on observational data.\n",
    "\n",
    "**A)** You will be working with the full US 2015 census dataset (acs2015_county_data.csv, available at https://www.kaggle.com/muonneutrino/us-census-demographic-data#acs2015_county_data.csv). Using suitable methods, determine and quantify the dependency between the percentage of self-employed citizens and per capita income across all 3,212 US counties. Do citizens in counties that have a higher percentage of self-employed people earn more per capita?\n",
    "\n",
    "**B)** The pilot program will involve all counties within a limited set of three US states. Set A includes Wisconsin, Tennessee, and  Minnesota. Quantify the dependency of per-capita income on self-employment rates across all the counties in set A.\n",
    "\n",
    "**C)** In which state within set A is the observed effect of self-employment on per-capita income the strongest?\n",
    "\n",
    "**D)** Set B includes New Jersey, Kansas, and Rhode Island. Repeat the analysis from steps B and C above, but now for set B. In which of the two sets A and B (if any) would you recommend incentivizing self-employment? Explain your reasoning.\n",
    "\n",
    "Hint: It is useful to add a notion of confidence to your results and explore the data visually. You are allowed to use the SciPy library."
   ]
  },
  {
   "cell_type": "code",
   "execution_count": null,
   "metadata": {
    "collapsed": true
   },
   "outputs": [],
   "source": []
  },
  {
   "cell_type": "markdown",
   "metadata": {},
   "source": [
    "\n"
   ]
  },
  {
   "cell_type": "markdown",
   "metadata": {
    "collapsed": true
   },
   "source": [
    "## Task 2: All you need is love… And a dog!\n",
    "\n",
    "Here we are going to build a classifier to predict whether an animal from an animal shelter will be adopted or not (aac_intakes_outcomes.csv, available at: https://www.kaggle.com/aaronschlegel/austin-animal-center-shelter-intakes-and-outcomes/version/1#aac_intakes_outcomes.csv). You will be working with the following features:\n",
    "\n",
    "1. *animal_type:* Type of animal. May be one of 'cat', 'dog', 'bird', etc.\n",
    "2. *intake_year:* Year of intake\n",
    "3. *intake_condition:* The intake condition of the animal. Can be one of 'normal', 'injured', 'sick', etc.\n",
    "4. *intake_number:* The intake number denoting the number of occurrences the animal has been brought into the shelter. Values higher than 1 indicate the animal has been taken into the shelter on more than one occasion.\n",
    "5. *intake_type:* The type of intake, for example, 'stray', 'owner surrender', etc.\n",
    "6. *sex_upon_intake:* The gender of the animal and if it has been spayed or neutered at the time of intake\n",
    "7. *age_upon\\_intake_(years):* The age of the animal upon intake represented in years\n",
    "8. *time_in_shelter_days:* Numeric value denoting the number of days the animal remained at the shelter from intake to outcome.\n",
    "9. *sex_upon_outcome:* The gender of the animal and if it has been spayed or neutered at time of outcome\n",
    "10. *age_upon\\_outcome_(years):* The age of the animal upon outcome represented in years\n",
    "11. *outcome_type:* The outcome type. Can be one of ‘adopted’, ‘transferred’, etc.\n",
    "\n",
    "**A)** Load the dataset and convert categorical features to a suitable numerical representation (use dummy-variable encoding). Split the data into a training set (80%) and a test set (20%). Pair each feature vector with the corresponding label, i.e., whether the outcome_type is adoption or not. Standardize the values of each feature in the data to have mean 0 and variance 1. The use of external libraries is not permitted in part A, except for numpy and pandas.\n",
    "\n",
    "**B)** Train a logistic regression classifier on your training set. Logistic regression returns probabilities as predictions, so in order to arrive at a binary prediction, you need to put a threshold on the predicted probabilities. For the decision threshold of 0.5, present the performance of your classifier on the test set by displaying the confusion matrix. Based on the confusion matrix, manually calculate accuracy, precision, recall, and F1-score with respect to the positive and the negative class. Vary the value of the threshold in the range from 0 to 1 and visualize the value of accuracy, precision, recall, and F1-score (with respect to both classes) as a function of the threshold. The shelter has a limited capacity and has no other option but to put to sleep animals with a low probability of adoption. What metric (precision, recall, accuracy, or F1-score) and with respect to what class is the most relevant when choosing the threshold in this scenario, and why? Explain your reasoning.\n",
    "\n",
    "**C)** Reduce the number of features by selecting the subset of the k best features. Use greedy backward selection to iteratively remove features. Evaluate performance and visualize the result using 5-fold cross-validation on the training set as a function of k, where k = 1, 5, 10, 15, 20, 25, 30. Choose the optimal k and justify your choice. Interpret the top-k features and their impact on the probability of adoption.\n",
    "\n",
    "**D)** Train a random forest. Use 5-fold cross-validation on the training set to fine-tune the parameters of the classifier using a grid search on the number of estimators \"n_estimators\" and the max depth of the trees \"max_depth\". For the chosen parameters, estimate the performance of your classifier on the test set by presenting the confusion matrix, accuracy, precision, recall, and F1-score with respect to both classes and compare the performance with the performance of the logistic regression. Interpret the results.\n",
    "\n",
    "You are allowed to use the scikit-learn library to implement your classifiers."
   ]
  },
  {
   "cell_type": "code",
   "execution_count": 3,
   "metadata": {},
   "outputs": [
    {
     "data": {
      "text/html": [
       "<div>\n",
       "<style scoped>\n",
       "    .dataframe tbody tr th:only-of-type {\n",
       "        vertical-align: middle;\n",
       "    }\n",
       "\n",
       "    .dataframe tbody tr th {\n",
       "        vertical-align: top;\n",
       "    }\n",
       "\n",
       "    .dataframe thead th {\n",
       "        text-align: right;\n",
       "    }\n",
       "</style>\n",
       "<table border=\"1\" class=\"dataframe\">\n",
       "  <thead>\n",
       "    <tr style=\"text-align: right;\">\n",
       "      <th></th>\n",
       "      <th>outcome_type</th>\n",
       "      <th>sex_upon_outcome</th>\n",
       "      <th>age_upon_outcome_(years)</th>\n",
       "      <th>animal_type</th>\n",
       "      <th>intake_condition</th>\n",
       "      <th>intake_type</th>\n",
       "      <th>sex_upon_intake</th>\n",
       "      <th>age_upon_intake_(years)</th>\n",
       "      <th>intake_year</th>\n",
       "      <th>intake_number</th>\n",
       "      <th>time_in_shelter_days</th>\n",
       "    </tr>\n",
       "  </thead>\n",
       "  <tbody>\n",
       "    <tr>\n",
       "      <th>0</th>\n",
       "      <td>Return to Owner</td>\n",
       "      <td>Neutered Male</td>\n",
       "      <td>10.0</td>\n",
       "      <td>Dog</td>\n",
       "      <td>Normal</td>\n",
       "      <td>Stray</td>\n",
       "      <td>Neutered Male</td>\n",
       "      <td>10.0</td>\n",
       "      <td>2017</td>\n",
       "      <td>1.0</td>\n",
       "      <td>0.588194</td>\n",
       "    </tr>\n",
       "    <tr>\n",
       "      <th>1</th>\n",
       "      <td>Return to Owner</td>\n",
       "      <td>Neutered Male</td>\n",
       "      <td>7.0</td>\n",
       "      <td>Dog</td>\n",
       "      <td>Normal</td>\n",
       "      <td>Public Assist</td>\n",
       "      <td>Neutered Male</td>\n",
       "      <td>7.0</td>\n",
       "      <td>2014</td>\n",
       "      <td>2.0</td>\n",
       "      <td>1.259722</td>\n",
       "    </tr>\n",
       "    <tr>\n",
       "      <th>2</th>\n",
       "      <td>Return to Owner</td>\n",
       "      <td>Neutered Male</td>\n",
       "      <td>6.0</td>\n",
       "      <td>Dog</td>\n",
       "      <td>Normal</td>\n",
       "      <td>Public Assist</td>\n",
       "      <td>Neutered Male</td>\n",
       "      <td>6.0</td>\n",
       "      <td>2014</td>\n",
       "      <td>3.0</td>\n",
       "      <td>1.113889</td>\n",
       "    </tr>\n",
       "    <tr>\n",
       "      <th>3</th>\n",
       "      <td>Transfer</td>\n",
       "      <td>Neutered Male</td>\n",
       "      <td>10.0</td>\n",
       "      <td>Dog</td>\n",
       "      <td>Normal</td>\n",
       "      <td>Owner Surrender</td>\n",
       "      <td>Neutered Male</td>\n",
       "      <td>10.0</td>\n",
       "      <td>2014</td>\n",
       "      <td>1.0</td>\n",
       "      <td>4.970139</td>\n",
       "    </tr>\n",
       "    <tr>\n",
       "      <th>4</th>\n",
       "      <td>Return to Owner</td>\n",
       "      <td>Neutered Male</td>\n",
       "      <td>16.0</td>\n",
       "      <td>Dog</td>\n",
       "      <td>Injured</td>\n",
       "      <td>Public Assist</td>\n",
       "      <td>Neutered Male</td>\n",
       "      <td>16.0</td>\n",
       "      <td>2013</td>\n",
       "      <td>1.0</td>\n",
       "      <td>0.119444</td>\n",
       "    </tr>\n",
       "  </tbody>\n",
       "</table>\n",
       "</div>"
      ],
      "text/plain": [
       "      outcome_type sex_upon_outcome  age_upon_outcome_(years) animal_type  \\\n",
       "0  Return to Owner    Neutered Male                      10.0         Dog   \n",
       "1  Return to Owner    Neutered Male                       7.0         Dog   \n",
       "2  Return to Owner    Neutered Male                       6.0         Dog   \n",
       "3         Transfer    Neutered Male                      10.0         Dog   \n",
       "4  Return to Owner    Neutered Male                      16.0         Dog   \n",
       "\n",
       "  intake_condition      intake_type sex_upon_intake  age_upon_intake_(years)  \\\n",
       "0           Normal            Stray   Neutered Male                     10.0   \n",
       "1           Normal    Public Assist   Neutered Male                      7.0   \n",
       "2           Normal    Public Assist   Neutered Male                      6.0   \n",
       "3           Normal  Owner Surrender   Neutered Male                     10.0   \n",
       "4          Injured    Public Assist   Neutered Male                     16.0   \n",
       "\n",
       "   intake_year  intake_number  time_in_shelter_days  \n",
       "0         2017            1.0              0.588194  \n",
       "1         2014            2.0              1.259722  \n",
       "2         2014            3.0              1.113889  \n",
       "3         2014            1.0              4.970139  \n",
       "4         2013            1.0              0.119444  "
      ]
     },
     "execution_count": 3,
     "metadata": {},
     "output_type": "execute_result"
    }
   ],
   "source": [
    "#A) \n",
    "\n",
    "# Read csv to load data\n",
    "aac_intakes_outcomes = pd.read_csv(data_folder + animal_folder + \"aac_intakes_outcomes.csv\")\n",
    "\n",
    "# Get list of all columns\n",
    "list(aac_intakes_outcomes)\n",
    "\n",
    "# Drop unnecessary columns (columns that aren't listed in the task description above)\n",
    "drop_cols = ['age_upon_outcome','animal_id_outcome','date_of_birth','outcome_subtype','age_upon_outcome_(days)','age_upon_outcome_age_group','outcome_datetime',\n",
    " 'outcome_month','outcome_year','outcome_monthyear','outcome_weekday','outcome_hour','outcome_number','dob_year','dob_month','dob_monthyear',\n",
    " 'age_upon_intake','animal_id_intake','breed','color','found_location','count','age_upon_intake_(days)','age_upon_intake_age_group',\n",
    " 'intake_datetime','intake_month','intake_monthyear','intake_weekday','intake_hour','time_in_shelter',]\n",
    "aac_intakes_outcomes = aac_intakes_outcomes.drop(drop_cols, axis=1)\n",
    "\n",
    "aac_intakes_outcomes.head()"
   ]
  },
  {
   "cell_type": "markdown",
   "metadata": {},
   "source": [
    "Categorical features include:\n",
    "- animal_type\n",
    "- intake_condition\n",
    "- intake_type\n",
    "- sex_upon_intake\n",
    "- sex_upon_outcome\n",
    "- outcome_type"
   ]
  },
  {
   "cell_type": "code",
   "execution_count": 4,
   "metadata": {},
   "outputs": [],
   "source": [
    "# First, convert all categorical columns to 'category' type\n",
    "cat_list = [\"animal_type\", \"intake_condition\", \"intake_type\", \"sex_upon_intake\", \"sex_upon_outcome\", \"outcome_type\"]\n",
    "aac_intakes_outcomes[cat_list] = aac_intakes_outcomes[cat_list].apply(lambda x: x.astype('category'))\n",
    "\n",
    "# Convert all categorical types to numeric\n",
    "aac_intakes_outcomes[cat_list] = aac_intakes_outcomes[cat_list].apply(lambda x: x.cat.codes)"
   ]
  },
  {
   "cell_type": "code",
   "execution_count": 5,
   "metadata": {},
   "outputs": [
    {
     "data": {
      "text/html": [
       "<div>\n",
       "<style scoped>\n",
       "    .dataframe tbody tr th:only-of-type {\n",
       "        vertical-align: middle;\n",
       "    }\n",
       "\n",
       "    .dataframe tbody tr th {\n",
       "        vertical-align: top;\n",
       "    }\n",
       "\n",
       "    .dataframe thead th {\n",
       "        text-align: right;\n",
       "    }\n",
       "</style>\n",
       "<table border=\"1\" class=\"dataframe\">\n",
       "  <thead>\n",
       "    <tr style=\"text-align: right;\">\n",
       "      <th></th>\n",
       "      <th>outcome_type</th>\n",
       "      <th>sex_upon_outcome</th>\n",
       "      <th>age_upon_outcome_(years)</th>\n",
       "      <th>animal_type</th>\n",
       "      <th>intake_condition</th>\n",
       "      <th>intake_type</th>\n",
       "      <th>sex_upon_intake</th>\n",
       "      <th>age_upon_intake_(years)</th>\n",
       "      <th>intake_year</th>\n",
       "      <th>intake_number</th>\n",
       "      <th>time_in_shelter_days</th>\n",
       "    </tr>\n",
       "  </thead>\n",
       "  <tbody>\n",
       "    <tr>\n",
       "      <th>0</th>\n",
       "      <td>6</td>\n",
       "      <td>2</td>\n",
       "      <td>10.0</td>\n",
       "      <td>2</td>\n",
       "      <td>3</td>\n",
       "      <td>3</td>\n",
       "      <td>2</td>\n",
       "      <td>10.0</td>\n",
       "      <td>2017</td>\n",
       "      <td>1.0</td>\n",
       "      <td>0.588194</td>\n",
       "    </tr>\n",
       "    <tr>\n",
       "      <th>1</th>\n",
       "      <td>6</td>\n",
       "      <td>2</td>\n",
       "      <td>7.0</td>\n",
       "      <td>2</td>\n",
       "      <td>3</td>\n",
       "      <td>2</td>\n",
       "      <td>2</td>\n",
       "      <td>7.0</td>\n",
       "      <td>2014</td>\n",
       "      <td>2.0</td>\n",
       "      <td>1.259722</td>\n",
       "    </tr>\n",
       "    <tr>\n",
       "      <th>2</th>\n",
       "      <td>6</td>\n",
       "      <td>2</td>\n",
       "      <td>6.0</td>\n",
       "      <td>2</td>\n",
       "      <td>3</td>\n",
       "      <td>2</td>\n",
       "      <td>2</td>\n",
       "      <td>6.0</td>\n",
       "      <td>2014</td>\n",
       "      <td>3.0</td>\n",
       "      <td>1.113889</td>\n",
       "    </tr>\n",
       "    <tr>\n",
       "      <th>3</th>\n",
       "      <td>8</td>\n",
       "      <td>2</td>\n",
       "      <td>10.0</td>\n",
       "      <td>2</td>\n",
       "      <td>3</td>\n",
       "      <td>1</td>\n",
       "      <td>2</td>\n",
       "      <td>10.0</td>\n",
       "      <td>2014</td>\n",
       "      <td>1.0</td>\n",
       "      <td>4.970139</td>\n",
       "    </tr>\n",
       "    <tr>\n",
       "      <th>4</th>\n",
       "      <td>6</td>\n",
       "      <td>2</td>\n",
       "      <td>16.0</td>\n",
       "      <td>2</td>\n",
       "      <td>2</td>\n",
       "      <td>2</td>\n",
       "      <td>2</td>\n",
       "      <td>16.0</td>\n",
       "      <td>2013</td>\n",
       "      <td>1.0</td>\n",
       "      <td>0.119444</td>\n",
       "    </tr>\n",
       "  </tbody>\n",
       "</table>\n",
       "</div>"
      ],
      "text/plain": [
       "   outcome_type  sex_upon_outcome  age_upon_outcome_(years)  animal_type  \\\n",
       "0             6                 2                      10.0            2   \n",
       "1             6                 2                       7.0            2   \n",
       "2             6                 2                       6.0            2   \n",
       "3             8                 2                      10.0            2   \n",
       "4             6                 2                      16.0            2   \n",
       "\n",
       "   intake_condition  intake_type  sex_upon_intake  age_upon_intake_(years)  \\\n",
       "0                 3            3                2                     10.0   \n",
       "1                 3            2                2                      7.0   \n",
       "2                 3            2                2                      6.0   \n",
       "3                 3            1                2                     10.0   \n",
       "4                 2            2                2                     16.0   \n",
       "\n",
       "   intake_year  intake_number  time_in_shelter_days  \n",
       "0         2017            1.0              0.588194  \n",
       "1         2014            2.0              1.259722  \n",
       "2         2014            3.0              1.113889  \n",
       "3         2014            1.0              4.970139  \n",
       "4         2013            1.0              0.119444  "
      ]
     },
     "execution_count": 5,
     "metadata": {},
     "output_type": "execute_result"
    }
   ],
   "source": [
    "# All categorical variables should now be replaced by numerical dummy values\n",
    "aac_intakes_outcomes.head()"
   ]
  },
  {
   "cell_type": "code",
   "execution_count": 83,
   "metadata": {},
   "outputs": [],
   "source": [
    "# Add response label - whether outcome_type is adoption or not. \"adopted\"= 1 if adopted, otherwise \"adopted\" = 0\n",
    "aac_intakes_outcomes['adopted'] = np.where(aac_intakes_outcomes['outcome_type'] == 0, 1, 0)\n",
    "\n",
    "# Split dataset into test and train set\n",
    "train = aac_intakes_outcomes.sample(frac=0.8)\n",
    "test = aac_intakes_outcomes.drop(train.index)"
   ]
  },
  {
   "cell_type": "code",
   "execution_count": 87,
   "metadata": {},
   "outputs": [],
   "source": [
    "# Get list of feature columns and standardize the train and test datasets to have 0 mean and variance 1\n",
    "feature_cols = [i for i in list(train.columns) if i != 'adopted' and i != 'outcome_type']\n",
    "train[feature_cols] = (train[feature_cols]-train[feature_cols].mean())/train[feature_cols].std()\n",
    "test[feature_cols] = (test[feature_cols]-test[feature_cols].mean())/test[feature_cols].std()"
   ]
  },
  {
   "cell_type": "code",
   "execution_count": 88,
   "metadata": {},
   "outputs": [
    {
     "data": {
      "text/html": [
       "<div>\n",
       "<style scoped>\n",
       "    .dataframe tbody tr th:only-of-type {\n",
       "        vertical-align: middle;\n",
       "    }\n",
       "\n",
       "    .dataframe tbody tr th {\n",
       "        vertical-align: top;\n",
       "    }\n",
       "\n",
       "    .dataframe thead th {\n",
       "        text-align: right;\n",
       "    }\n",
       "</style>\n",
       "<table border=\"1\" class=\"dataframe\">\n",
       "  <thead>\n",
       "    <tr style=\"text-align: right;\">\n",
       "      <th></th>\n",
       "      <th>outcome_type</th>\n",
       "      <th>sex_upon_outcome</th>\n",
       "      <th>age_upon_outcome_(years)</th>\n",
       "      <th>animal_type</th>\n",
       "      <th>intake_condition</th>\n",
       "      <th>intake_type</th>\n",
       "      <th>sex_upon_intake</th>\n",
       "      <th>age_upon_intake_(years)</th>\n",
       "      <th>intake_year</th>\n",
       "      <th>intake_number</th>\n",
       "      <th>time_in_shelter_days</th>\n",
       "      <th>adopted</th>\n",
       "    </tr>\n",
       "  </thead>\n",
       "  <tbody>\n",
       "    <tr>\n",
       "      <th>2</th>\n",
       "      <td>6</td>\n",
       "      <td>-0.126874</td>\n",
       "      <td>1.341099</td>\n",
       "      <td>0.554674</td>\n",
       "      <td>-0.142136</td>\n",
       "      <td>-0.698282</td>\n",
       "      <td>0.468112</td>\n",
       "      <td>1.356396</td>\n",
       "      <td>-1.097167</td>\n",
       "      <td>3.953908</td>\n",
       "      <td>-0.389870</td>\n",
       "      <td>0</td>\n",
       "    </tr>\n",
       "    <tr>\n",
       "      <th>8</th>\n",
       "      <td>6</td>\n",
       "      <td>-0.126874</td>\n",
       "      <td>4.447275</td>\n",
       "      <td>0.554674</td>\n",
       "      <td>-0.142136</td>\n",
       "      <td>-0.698282</td>\n",
       "      <td>0.468112</td>\n",
       "      <td>4.469987</td>\n",
       "      <td>-1.097167</td>\n",
       "      <td>-0.279784</td>\n",
       "      <td>-0.256148</td>\n",
       "      <td>0</td>\n",
       "    </tr>\n",
       "    <tr>\n",
       "      <th>10</th>\n",
       "      <td>6</td>\n",
       "      <td>-1.923866</td>\n",
       "      <td>4.792406</td>\n",
       "      <td>-1.152856</td>\n",
       "      <td>-0.142136</td>\n",
       "      <td>0.472798</td>\n",
       "      <td>-1.093634</td>\n",
       "      <td>4.815942</td>\n",
       "      <td>-0.329728</td>\n",
       "      <td>-0.279784</td>\n",
       "      <td>-0.317522</td>\n",
       "      <td>0</td>\n",
       "    </tr>\n",
       "    <tr>\n",
       "      <th>14</th>\n",
       "      <td>0</td>\n",
       "      <td>-0.126874</td>\n",
       "      <td>5.137537</td>\n",
       "      <td>0.554674</td>\n",
       "      <td>-3.657088</td>\n",
       "      <td>-0.698282</td>\n",
       "      <td>0.468112</td>\n",
       "      <td>5.161896</td>\n",
       "      <td>0.437711</td>\n",
       "      <td>-0.279784</td>\n",
       "      <td>-0.184359</td>\n",
       "      <td>1</td>\n",
       "    </tr>\n",
       "    <tr>\n",
       "      <th>27</th>\n",
       "      <td>6</td>\n",
       "      <td>-0.126874</td>\n",
       "      <td>3.757014</td>\n",
       "      <td>0.554674</td>\n",
       "      <td>-0.142136</td>\n",
       "      <td>0.472798</td>\n",
       "      <td>0.468112</td>\n",
       "      <td>3.432124</td>\n",
       "      <td>-1.097167</td>\n",
       "      <td>-0.279784</td>\n",
       "      <td>-0.309669</td>\n",
       "      <td>0</td>\n",
       "    </tr>\n",
       "  </tbody>\n",
       "</table>\n",
       "</div>"
      ],
      "text/plain": [
       "    outcome_type  sex_upon_outcome  age_upon_outcome_(years)  animal_type  \\\n",
       "2              6         -0.126874                  1.341099     0.554674   \n",
       "8              6         -0.126874                  4.447275     0.554674   \n",
       "10             6         -1.923866                  4.792406    -1.152856   \n",
       "14             0         -0.126874                  5.137537     0.554674   \n",
       "27             6         -0.126874                  3.757014     0.554674   \n",
       "\n",
       "    intake_condition  intake_type  sex_upon_intake  age_upon_intake_(years)  \\\n",
       "2          -0.142136    -0.698282         0.468112                 1.356396   \n",
       "8          -0.142136    -0.698282         0.468112                 4.469987   \n",
       "10         -0.142136     0.472798        -1.093634                 4.815942   \n",
       "14         -3.657088    -0.698282         0.468112                 5.161896   \n",
       "27         -0.142136     0.472798         0.468112                 3.432124   \n",
       "\n",
       "    intake_year  intake_number  time_in_shelter_days  adopted  \n",
       "2     -1.097167       3.953908             -0.389870        0  \n",
       "8     -1.097167      -0.279784             -0.256148        0  \n",
       "10    -0.329728      -0.279784             -0.317522        0  \n",
       "14     0.437711      -0.279784             -0.184359        1  \n",
       "27    -1.097167      -0.279784             -0.309669        0  "
      ]
     },
     "execution_count": 88,
     "metadata": {},
     "output_type": "execute_result"
    }
   ],
   "source": [
    "# Check test dataset\n",
    "test.head()"
   ]
  },
  {
   "cell_type": "code",
   "execution_count": 89,
   "metadata": {},
   "outputs": [
    {
     "data": {
      "text/html": [
       "<div>\n",
       "<style scoped>\n",
       "    .dataframe tbody tr th:only-of-type {\n",
       "        vertical-align: middle;\n",
       "    }\n",
       "\n",
       "    .dataframe tbody tr th {\n",
       "        vertical-align: top;\n",
       "    }\n",
       "\n",
       "    .dataframe thead th {\n",
       "        text-align: right;\n",
       "    }\n",
       "</style>\n",
       "<table border=\"1\" class=\"dataframe\">\n",
       "  <thead>\n",
       "    <tr style=\"text-align: right;\">\n",
       "      <th></th>\n",
       "      <th>outcome_type</th>\n",
       "      <th>sex_upon_outcome</th>\n",
       "      <th>age_upon_outcome_(years)</th>\n",
       "      <th>animal_type</th>\n",
       "      <th>intake_condition</th>\n",
       "      <th>intake_type</th>\n",
       "      <th>sex_upon_intake</th>\n",
       "      <th>age_upon_intake_(years)</th>\n",
       "      <th>intake_year</th>\n",
       "      <th>intake_number</th>\n",
       "      <th>time_in_shelter_days</th>\n",
       "      <th>adopted</th>\n",
       "    </tr>\n",
       "  </thead>\n",
       "  <tbody>\n",
       "    <tr>\n",
       "      <th>39233</th>\n",
       "      <td>0</td>\n",
       "      <td>0.780624</td>\n",
       "      <td>-0.051602</td>\n",
       "      <td>0.556687</td>\n",
       "      <td>1.024503</td>\n",
       "      <td>-1.874066</td>\n",
       "      <td>-1.096644</td>\n",
       "      <td>-0.039711</td>\n",
       "      <td>-0.335878</td>\n",
       "      <td>-0.277694</td>\n",
       "      <td>-0.233688</td>\n",
       "      <td>1</td>\n",
       "    </tr>\n",
       "    <tr>\n",
       "      <th>14627</th>\n",
       "      <td>8</td>\n",
       "      <td>-0.120546</td>\n",
       "      <td>1.672112</td>\n",
       "      <td>0.556687</td>\n",
       "      <td>-0.140254</td>\n",
       "      <td>0.477991</td>\n",
       "      <td>0.473548</td>\n",
       "      <td>1.688116</td>\n",
       "      <td>-1.103224</td>\n",
       "      <td>-0.277694</td>\n",
       "      <td>-0.331549</td>\n",
       "      <td>0</td>\n",
       "    </tr>\n",
       "    <tr>\n",
       "      <th>71063</th>\n",
       "      <td>8</td>\n",
       "      <td>-1.021716</td>\n",
       "      <td>-0.571077</td>\n",
       "      <td>0.556687</td>\n",
       "      <td>-0.140254</td>\n",
       "      <td>-1.874066</td>\n",
       "      <td>-0.311548</td>\n",
       "      <td>-0.588828</td>\n",
       "      <td>1.198815</td>\n",
       "      <td>-0.277694</td>\n",
       "      <td>-0.260047</td>\n",
       "      <td>0</td>\n",
       "    </tr>\n",
       "    <tr>\n",
       "      <th>69429</th>\n",
       "      <td>0</td>\n",
       "      <td>-0.120546</td>\n",
       "      <td>-0.051602</td>\n",
       "      <td>0.556687</td>\n",
       "      <td>-0.140254</td>\n",
       "      <td>-1.874066</td>\n",
       "      <td>0.473548</td>\n",
       "      <td>-0.039711</td>\n",
       "      <td>1.198815</td>\n",
       "      <td>1.935318</td>\n",
       "      <td>-0.345833</td>\n",
       "      <td>1</td>\n",
       "    </tr>\n",
       "    <tr>\n",
       "      <th>18174</th>\n",
       "      <td>0</td>\n",
       "      <td>-0.120546</td>\n",
       "      <td>-0.051602</td>\n",
       "      <td>0.556687</td>\n",
       "      <td>-0.140254</td>\n",
       "      <td>-1.874066</td>\n",
       "      <td>0.473548</td>\n",
       "      <td>-0.039711</td>\n",
       "      <td>-1.103224</td>\n",
       "      <td>-0.277694</td>\n",
       "      <td>-0.324923</td>\n",
       "      <td>1</td>\n",
       "    </tr>\n",
       "  </tbody>\n",
       "</table>\n",
       "</div>"
      ],
      "text/plain": [
       "       outcome_type  sex_upon_outcome  age_upon_outcome_(years)  animal_type  \\\n",
       "39233             0          0.780624                 -0.051602     0.556687   \n",
       "14627             8         -0.120546                  1.672112     0.556687   \n",
       "71063             8         -1.021716                 -0.571077     0.556687   \n",
       "69429             0         -0.120546                 -0.051602     0.556687   \n",
       "18174             0         -0.120546                 -0.051602     0.556687   \n",
       "\n",
       "       intake_condition  intake_type  sex_upon_intake  \\\n",
       "39233          1.024503    -1.874066        -1.096644   \n",
       "14627         -0.140254     0.477991         0.473548   \n",
       "71063         -0.140254    -1.874066        -0.311548   \n",
       "69429         -0.140254    -1.874066         0.473548   \n",
       "18174         -0.140254    -1.874066         0.473548   \n",
       "\n",
       "       age_upon_intake_(years)  intake_year  intake_number  \\\n",
       "39233                -0.039711    -0.335878      -0.277694   \n",
       "14627                 1.688116    -1.103224      -0.277694   \n",
       "71063                -0.588828     1.198815      -0.277694   \n",
       "69429                -0.039711     1.198815       1.935318   \n",
       "18174                -0.039711    -1.103224      -0.277694   \n",
       "\n",
       "       time_in_shelter_days  adopted  \n",
       "39233             -0.233688        1  \n",
       "14627             -0.331549        0  \n",
       "71063             -0.260047        0  \n",
       "69429             -0.345833        1  \n",
       "18174             -0.324923        1  "
      ]
     },
     "execution_count": 89,
     "metadata": {},
     "output_type": "execute_result"
    }
   ],
   "source": [
    "# Check train dataset\n",
    "train.head()"
   ]
  },
  {
   "cell_type": "code",
   "execution_count": 90,
   "metadata": {},
   "outputs": [],
   "source": [
    "# Separate train and test datasets into feature columns and response column\n",
    "\n",
    "X = train[feature_cols]\n",
    "Y = train['adopted']\n",
    "\n",
    "X_test = test[feature_cols]\n",
    "Y_test = test['adopted']"
   ]
  },
  {
   "cell_type": "code",
   "execution_count": 91,
   "metadata": {},
   "outputs": [
    {
     "data": {
      "text/plain": [
       "LogisticRegression(C=1.0, class_weight=None, dual=False, fit_intercept=True,\n",
       "          intercept_scaling=1, max_iter=100, multi_class='ovr', n_jobs=1,\n",
       "          penalty='l2', random_state=None, solver='lbfgs', tol=0.0001,\n",
       "          verbose=0, warm_start=False)"
      ]
     },
     "execution_count": 91,
     "metadata": {},
     "output_type": "execute_result"
    }
   ],
   "source": [
    "# b)\n",
    "logistic = LogisticRegression(solver='lbfgs')\n",
    "logistic.fit(X, Y)"
   ]
  },
  {
   "cell_type": "code",
   "execution_count": 97,
   "metadata": {},
   "outputs": [
    {
     "data": {
      "text/plain": [
       "array([[8172, 1152],\n",
       "       [2617, 3993]])"
      ]
     },
     "execution_count": 97,
     "metadata": {},
     "output_type": "execute_result"
    }
   ],
   "source": [
    "# Get logistic predictions\n",
    "pred = logistic.predict(X_test)\n",
    "\n",
    "# Create dataframe that compares predictions with real Y_test values\n",
    "test_results = pd.DataFrame({'prediction':pred,'Y_test':Y_test})\n",
    "\n",
    "# Get confusion matrix through comparing pred and Y_test\n",
    "accurate_1 = len(test_results[(test_results.prediction == 1) & (test_results.Y_test == 1)])\n",
    "accurate_0 = len(test_results[(test_results.prediction == 0) & (test_results.Y_test == 0)])\n",
    "false_positives = len(test_results[(test_results.prediction == 1) & (test_results.Y_test == 0)])\n",
    "false_negatives = len(test_results[(test_results.prediction == 0) & (test_results.Y_test == 1)])\n",
    "\n",
    "confusion_matrix = np.array([[accurate_0, false_positives], [false_negatives, accurate_1]])\n",
    "confusion_matrix"
   ]
  },
  {
   "cell_type": "code",
   "execution_count": 160,
   "metadata": {},
   "outputs": [],
   "source": [
    "def logistic_performance(X, X_test, Y_test, threshold, print_yes=True):\n",
    "    #get predicted values\n",
    "    pred = np.where(logistic.predict_proba(X_test)[:,1] > threshold, 1, 0)\n",
    "    test_results = pd.DataFrame({'prediction':pred,'Y_test':Y_test})\n",
    "    \n",
    "    #create confusion matrix values\n",
    "    accurate_1 = len(test_results[(test_results.prediction == 1) & (test_results.Y_test == 1)])\n",
    "    accurate_0 = len(test_results[(test_results.prediction == 0) & (test_results.Y_test == 0)])\n",
    "    false_positives = len(test_results[(test_results.prediction == 1) & (test_results.Y_test == 0)])\n",
    "    false_negatives = len(test_results[(test_results.prediction == 0) & (test_results.Y_test == 1)])\n",
    "\n",
    "    #calculate accuracy\n",
    "    accuracy = (accurate_1 + accurate_0) / (accurate_1 + accurate_0 + false_positives + false_negatives)\n",
    "    \n",
    "    #calculate precision while considering possibility of dividing by 0\n",
    "    if accurate_1 + false_positives == 0: precision_pos = 0\n",
    "    else: precision_pos = accurate_1 / (accurate_1 + false_positives)\n",
    "    if accurate_0 + false_negatives == 0: precision_neg = 0\n",
    "    else: precision_neg = accurate_0 / (accurate_0 + false_negatives)\n",
    "    \n",
    "    #calculate recall\n",
    "    if accurate_1 + false_negatives == 0: recall_pos = 0\n",
    "    else: recall_pos = accurate_1 / (accurate_1 + false_negatives)\n",
    "    if accurate_0 + false_positives == 0: recall_neg = 0\n",
    "    else: recall_neg = accurate_0 / (accurate_0 + false_positives)\n",
    "    \n",
    "    #calculate f1_score\n",
    "    if recall_pos + precision_pos == 0: f1_score_pos = 0\n",
    "    else: f1_score_pos = 2 * (recall_pos * precision_pos) / (recall_pos + precision_pos)\n",
    "    if recall_neg + precision_neg == 0: f1_score_neg = 0\n",
    "    else: f1_score_neg = 2 * (recall_neg * precision_neg) / (recall_neg + precision_neg)\n",
    "    \n",
    "    if print_yes == True:\n",
    "        print(\"accuracy: \", accuracy)\n",
    "        print(\"precision (+): \", precision_pos)\n",
    "        print(\"precision (-): \", precision_neg)\n",
    "        print(\"recall (+): \", recall_pos)\n",
    "        print(\"recall (-): \", recall_neg)\n",
    "        print(\"f1_score (+): \", f1_score_pos)\n",
    "        print(\"f1_score (-): \", f1_score_neg)        \n",
    "        \n",
    "    return accuracy, precision_pos, precision_neg, recall_pos, recall_neg, f1_score_pos, f1_score_neg"
   ]
  },
  {
   "cell_type": "code",
   "execution_count": 161,
   "metadata": {},
   "outputs": [
    {
     "name": "stdout",
     "output_type": "stream",
     "text": [
      "accuracy:  0.7634617798418476\n",
      "precision (+):  0.7760932944606413\n",
      "precision (-):  0.7574381314301604\n",
      "recall (+):  0.6040847201210288\n",
      "recall (-):  0.8764478764478765\n",
      "f1_score (+):  0.6793704806465335\n",
      "f1_score (-):  0.8126087605031571\n"
     ]
    },
    {
     "data": {
      "text/plain": [
       "(0.7634617798418476,\n",
       " 0.7760932944606413,\n",
       " 0.7574381314301604,\n",
       " 0.6040847201210288,\n",
       " 0.8764478764478765,\n",
       " 0.6793704806465335,\n",
       " 0.8126087605031571)"
      ]
     },
     "execution_count": 161,
     "metadata": {},
     "output_type": "execute_result"
    }
   ],
   "source": [
    "logistic_performance(X, X_test, Y_test, 0.5)"
   ]
  },
  {
   "cell_type": "code",
   "execution_count": 179,
   "metadata": {},
   "outputs": [],
   "source": [
    "#Testing threshold range from [0,1]\n",
    "accuracy_list = []\n",
    "precision_pos_list = []\n",
    "precision_neg_list = []\n",
    "recall_pos_list = []\n",
    "recall_neg_list = []\n",
    "f1_score_pos_list = []\n",
    "f1_score_neg_list = []\n",
    "\n",
    "#Get thresholds from 0 - 1\n",
    "thresholds = np.arange(0, 1.1, 0.1)\n",
    "\n",
    "for i in thresholds:\n",
    "    accuracy, precision_pos, precision_neg, recall_pos, recall_neg, f1_score_pos, f1_score_neg = logistic_performance(X, X_test, Y_test, i, print_yes=False)\n",
    "    accuracy_list.append(accuracy)\n",
    "    precision_pos_list.append(precision_pos)\n",
    "    precision_neg_list.append(precision_neg)\n",
    "    recall_pos_list.append(recall_pos)\n",
    "    recall_neg_list.append(recall_neg)\n",
    "    f1_score_pos_list.append(f1_score_pos)\n",
    "    f1_score_neg_list.append(f1_score_neg)"
   ]
  },
  {
   "cell_type": "code",
   "execution_count": 180,
   "metadata": {},
   "outputs": [
    {
     "data": {
      "text/plain": [
       "<matplotlib.text.Text at 0x11b3771d0>"
      ]
     },
     "execution_count": 180,
     "metadata": {},
     "output_type": "execute_result"
    },
    {
     "data": {
      "image/png": "[encoded data removed]",
      "text/plain": [
       "<matplotlib.figure.Figure at 0x11b87dda0>"
      ]
     },
     "metadata": {
      "needs_background": "light"
     },
     "output_type": "display_data"
    }
   ],
   "source": [
    "#plot positive graphs\n",
    "plt.plot(thresholds, accuracy_list, thresholds, precision_pos_list, thresholds, recall_pos_list, thresholds, f1_score_pos_list)\n",
    "plt.xlabel(\"Threshold\")\n",
    "plt.legend([\"Accuracy\", 'Precision', 'Recall', 'F_score'])\n",
    "plt.title('Positive Predictive Performance Metrics')"
   ]
  },
  {
   "cell_type": "code",
   "execution_count": 181,
   "metadata": {},
   "outputs": [
    {
     "data": {
      "text/plain": [
       "<matplotlib.text.Text at 0x11b57a588>"
      ]
     },
     "execution_count": 181,
     "metadata": {},
     "output_type": "execute_result"
    },
    {
     "data": {
      "image/png": "[encoded data removed]",
      "text/plain": [
       "<matplotlib.figure.Figure at 0x11b9b79b0>"
      ]
     },
     "metadata": {
      "needs_background": "light"
     },
     "output_type": "display_data"
    }
   ],
   "source": [
    "#plot negative graphs\n",
    "plt.plot(thresholds, accuracy_list, thresholds, precision_neg_list, thresholds, recall_neg_list, thresholds, f1_score_neg_list)\n",
    "plt.xlabel(\"Threshold\")\n",
    "plt.legend([\"Accuracy\", 'Precision', 'Recall', 'F_score'])\n",
    "plt.title('Negative Predictive Performance Metrics')"
   ]
  },
  {
   "cell_type": "markdown",
   "metadata": {},
   "source": [
    "The goal of the shelter should be to minimize the number of animals that are unnecessarily put to sleep. In other words, the goal is to minimize false negatives which would prevent killing animals that would have otherwise been adopted. In this case, negative precision is the most important metric and class when choosing a threshold. The metric negative precision compares the number of accurate unadopted predictions to the total number of unadopted predictions made -- the shelter should maximize this number in order to reduce the chance of unnecessary animals being put to sleep. Based on the graph above, a threshold of ~0.1 would be ideal in achieving the highest negative precision."
   ]
  },
  {
   "cell_type": "code",
   "execution_count": null,
   "metadata": {},
   "outputs": [],
   "source": []
  }
 ],
 "metadata": {
  "kernelspec": {
   "display_name": "Python 3",
   "language": "python",
   "name": "python3"
  },
  "language_info": {
   "codemirror_mode": {
    "name": "ipython",
    "version": 3
   },
   "file_extension": ".py",
   "mimetype": "text/x-python",
   "name": "python",
   "nbconvert_exporter": "python",
   "pygments_lexer": "ipython3",
   "version": "3.6.6"
  },
  "varInspector": {
   "cols": {
    "lenName": 16,
    "lenType": 16,
    "lenVar": 40
   },
   "kernels_config": {
    "python": {
     "delete_cmd_postfix": "",
     "delete_cmd_prefix": "del ",
     "library": "var_list.py",
     "varRefreshCmd": "print(var_dic_list())"
    },
    "r": {
     "delete_cmd_postfix": ") ",
     "delete_cmd_prefix": "rm(",
     "library": "var_list.r",
     "varRefreshCmd": "cat(var_dic_list()) "
    }
   },
   "types_to_exclude": [
    "module",
    "function",
    "builtin_function_or_method",
    "instance",
    "_Feature"
   ],
   "window_display": false
  }
 },
 "nbformat": 4,
 "nbformat_minor": 2
}
