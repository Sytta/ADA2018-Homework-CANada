{
 "cells": [
  {
   "cell_type": "markdown",
   "metadata": {},
   "source": [
    "# Exercise 1\n",
    " <p><div class=\"lev1\"><a href=\"#Task-A.-Another-LEGO-brick-in-the-wall\"><span class=\"toc-item-num\">Task A.&nbsp;&nbsp;</span>Another LEGO brick in the wall</a></div>\n",
    " <p><div class=\"lev1\"><a href=\"#Task-B.-Drop-the-Bike\"><span class=\"toc-item-num\">Task B.&nbsp;&nbsp;</span>Drop the Bike</a></div>"
   ]
  },
  {
   "cell_type": "code",
   "execution_count": 145,
   "metadata": {},
   "outputs": [],
   "source": [
    "# Add your imports here\n",
    "import pandas as pd\n",
    "import os\n",
    "import numpy as np\n",
    "import matplotlib as plt\n",
    "from datetime import datetime, date, time"
   ]
  },
  {
   "cell_type": "code",
   "execution_count": 146,
   "metadata": {},
   "outputs": [],
   "source": [
    "DATA_FOLDER = 'data'"
   ]
  },
  {
   "cell_type": "markdown",
   "metadata": {},
   "source": [
    "## Task A. Another LEGO brick in the wall\n",
    "\n",
    "LEGO is a popular brand of toy building bricks. They are often sold in sets in order to build a specific object. Each set contains a number of parts in different shapes, sizes and colors. This database contains information on which parts are included in different LEGO sets. It was originally compiled to help people who owned some LEGO sets already figure out what other sets they could build with the pieces they had.\n",
    "\n",
    "This dataset contains the official LEGO colors, parts, inventories (i.e., sets of LEGO parts which assembled create an object in the LEGO world) and sets (i.e., sets of LEGO inventories which assembled create a LEGO ecosystem). The schema of the dataset can be shown in the following UML diagram: \n",
    "\n",
    "![lego-schema](lego-schema.png)\n",
    "\n",
    "In this task you have to apply the following Data Wrangling pipeline:\n",
    "1. Load your data into `Pandas`\n",
    "* Explore it and clean its dirty parts\n",
    "* Use it to answer a set of queries\n",
    "\n",
    "Each of these subtasks are described in detail below."
   ]
  },
  {
   "cell_type": "markdown",
   "metadata": {},
   "source": [
    "### A1. Loading phase\n",
    "Load all the csv files into different `DataFrames`. Use meaningful names for your `DataFrames` (e.g., the respective filenames).\n",
    "\n",
    "*Hint: You can load files without first unzipping them (for `Pandas` version >= 0.18.1).*"
   ]
  },
  {
   "cell_type": "code",
   "execution_count": 147,
   "metadata": {},
   "outputs": [],
   "source": [
    "LEGO_DATA_FOLDER = DATA_FOLDER + '/lego'"
   ]
  },
  {
   "cell_type": "code",
   "execution_count": 148,
   "metadata": {},
   "outputs": [],
   "source": [
    "# Write your code here\n",
    "\n",
    "\"\"\"\n",
    "Add the datafolder path and the extension .csv.zip to the given filename\n",
    "\"\"\"\n",
    "def format_path(name):\n",
    "    return os.path.join(LEGO_DATA_FOLDER, '{}.csv.zip'.format(name))\n",
    "\n",
    "# Import each csv into a dataframe, taking the first column (id) as the index colum\n",
    "colors = pd.read_csv(format_path('colors'))\n",
    "inventories = pd.read_csv(format_path('inventories'))\n",
    "inventory_parts = pd.read_csv(format_path('inventory_parts'))\n",
    "inventory_sets = pd.read_csv(format_path('inventory_sets'))\n",
    "part_categories = pd.read_csv(format_path('part_categories'))\n",
    "parts = pd.read_csv(format_path('parts'))\n",
    "sets = pd.read_csv(format_path('sets'))\n",
    "themes = pd.read_csv(format_path('themes'))"
   ]
  },
  {
   "cell_type": "markdown",
   "metadata": {},
   "source": [
    "### A2. Cleaning phase\n",
    "Explore the following columns from your dataset:\n",
    "\n",
    "1. sets: year\n",
    "* inventory_parts: quantity\n",
    "\n",
    "What is the time range of the sets? \n",
    "What is the average quantity of the inventory parts? \n",
    "Do you see any inconsistencies? \n",
    "Provide code that detects and cleans such inconsistencies and validates the coherence of your dataset. "
   ]
  },
  {
   "cell_type": "markdown",
   "metadata": {
    "collapsed": true
   },
   "source": [
    "### Inconsistencies\n",
    "\n",
    "#### Sets Time Range\n",
    "Several inconsistencies exist including:\n",
    "1. 70s and 80s are considered big values while in reality, they mean 1970's and 1980's. The inconsistency in how the year was inputed results in 80s being considered the max value of the range, which is obviously false since the biggest value is 2017.\n",
    "2. Negative values of year\n",
    "3. Typos. For example: 19955 instead of 1995\n",
    "\n",
    "#### Average Quantity of Inventory Parts\n",
    "Quantity values of infinity are included in the data set, making it impossible to calculate the average. \n"
   ]
  },
  {
   "cell_type": "code",
   "execution_count": 149,
   "metadata": {},
   "outputs": [
    {
     "data": {
      "text/plain": [
       "3.836938260983857"
      ]
     },
     "execution_count": 149,
     "metadata": {},
     "output_type": "execute_result"
    }
   ],
   "source": [
    "inventory_parts = inventory_parts.replace(-np.inf, np.nan)\n",
    "inventory_parts.quantity.mean()"
   ]
  },
  {
   "cell_type": "code",
   "execution_count": 150,
   "metadata": {},
   "outputs": [
    {
     "data": {
      "text/plain": [
       "(1950, 2017)"
      ]
     },
     "execution_count": 150,
     "metadata": {},
     "output_type": "execute_result"
    }
   ],
   "source": [
    "sets.loc[sets.year == '70s', 'year'] = 1970\n",
    "sets.loc[sets.year == '80s', 'year'] = 1980\n",
    "sets['year'] = sets['year'].astype(np.int64).abs()\n",
    "sets['year'] = sets['year'].astype(str).str[:4]\n",
    "# Convert all the years in str to int64\n",
    "sets.year = pd.to_numeric(sets.year)\n",
    "min, max = sets.year.min(), sets.year.max()\n",
    "min, max"
   ]
  },
  {
   "cell_type": "markdown",
   "metadata": {},
   "source": [
    "#### Inventory Parts: \n",
    "Replaced infinity values to NaN values. Since a value of infinity cannot be used to calculate average, these values will be excluded when using NaN."
   ]
  },
  {
   "cell_type": "markdown",
   "metadata": {},
   "source": [
    "#### Sets Time Range:\n",
    "\n",
    "1. Converted 70s to 1970\n",
    "2. Converted 80s to 1980\n",
    "3. Converted the column 'year' to have a data type with integer value and replaced each value with its absolute value\n",
    "4. Only kept the first four digits of each year (hence 19955 --> 1995)"
   ]
  },
  {
   "cell_type": "markdown",
   "metadata": {},
   "source": [
    "### A3. Querying phase\n",
    "Answer the following queries using the functionality of Pandas:\n",
    "\n",
    "1. List the ids of the inventories that belong to sets that contain cars. (Hint: Find a smart way to distinguish which sets contain cars based on the sets' name).\n",
    "2. Plot the distribution of part categories as a (horizontal) bar chart. Restrict yourself to the 20 largest part categories (in terms of the number of parts belonging to the category).\n",
    "3. Find the dominant color of each set. Then, plot using a (horizontal) bar chart, the number of sets per dominant color. Color each bar with the respective color that it represents.\n",
    "4. Create a scatter plot of the luminance* of the sets vs their publishing year. What do you observe for the years 1980-1981? How do you interpret what you see?\n",
    "\n",
    "*The luminance of a color is a measure of brightness which, given its RGB representation, can be computed as follows:\n",
    "\n",
    "$luminance = \\sqrt{0.299*R^2 + 0.587*G^2 + 0.114*B^2}$"
   ]
  },
  {
   "cell_type": "code",
   "execution_count": 151,
   "metadata": {},
   "outputs": [
    {
     "name": "stderr",
     "output_type": "stream",
     "text": [
      "/Users/judygong/anaconda/lib/python3.6/site-packages/ipykernel_launcher.py:3: UserWarning: This pattern has match groups. To actually get the groups, use str.extract.\n",
      "  This is separate from the ipykernel package so we can avoid doing imports until\n"
     ]
    },
    {
     "data": {
      "text/plain": [
       "27           10002-1\n",
       "50           10022-1\n",
       "53           10025-1\n",
       "142          10158-1\n",
       "154          10170-1\n",
       "182          10200-1\n",
       "295          10552-1\n",
       "325          10589-1\n",
       "335          10600-1\n",
       "376          10673-1\n",
       "446          1076-22\n",
       "505           1109-1\n",
       "600          11908-1\n",
       "705           1247-1\n",
       "715           1253-1\n",
       "717           1255-1\n",
       "852           1361-1\n",
       "858            137-2\n",
       "918           1467-1\n",
       "922            147-1\n",
       "926           1477-1\n",
       "933           1489-1\n",
       "939           1496-1\n",
       "957           1517-1\n",
       "958           1518-1\n",
       "1004           157-3\n",
       "1038          1610-1\n",
       "1043          1612-1\n",
       "1097           167-1\n",
       "1207          1825-1\n",
       "            ...     \n",
       "7623          7119-1\n",
       "7800          7236-2\n",
       "7807          7241-1\n",
       "7898         7324-20\n",
       "7945          7424-2\n",
       "8011         75023-6\n",
       "8227         7553-16\n",
       "8228         7553-17\n",
       "8229         7553-18\n",
       "8316         75821-1\n",
       "8485          7611-1\n",
       "8486          7612-1\n",
       "8565         7687-20\n",
       "8566         7687-21\n",
       "8807          7902-1\n",
       "8842         7907-15\n",
       "9279          8241-1\n",
       "9288          8252-1\n",
       "9319          8286-1\n",
       "9367          8376-1\n",
       "9387          8402-1\n",
       "9415          8432-1\n",
       "9420          8437-1\n",
       "9569        850953-1\n",
       "10117        8803-11\n",
       "10281         8865-1\n",
       "10296         8880-1\n",
       "10736         9678-1\n",
       "10740         9685-1\n",
       "11164    EMMETSCAR-1\n",
       "Name: id, Length: 164, dtype: object"
      ]
     },
     "execution_count": 151,
     "metadata": {},
     "output_type": "execute_result"
    }
   ],
   "source": [
    "# Write your code here\n",
    "#Q1 Solution\n",
    "car_df = sets[sets['name'].str.contains(\" (c|C)ar(s|$|\\s)\", regex=True)]\n",
    "car_df.id"
   ]
  },
  {
   "cell_type": "code",
   "execution_count": 152,
   "metadata": {},
   "outputs": [
    {
     "name": "stderr",
     "output_type": "stream",
     "text": [
      "/Users/judygong/anaconda/lib/python3.6/site-packages/ipykernel_launcher.py:3: UserWarning: This pattern has match groups. To actually get the groups, use str.extract.\n",
      "  This is separate from the ipykernel package so we can avoid doing imports until\n"
     ]
    },
    {
     "data": {
      "text/plain": [
       "<matplotlib.axes._subplots.AxesSubplot at 0x116f79160>"
      ]
     },
     "execution_count": 152,
     "metadata": {},
     "output_type": "execute_result"
    },
    {
     "data": {
      "image/png": "[encoded data removed]",
      "text/plain": [
       "<matplotlib.figure.Figure at 0x144461f28>"
      ]
     },
     "metadata": {
      "needs_background": "light"
     },
     "output_type": "display_data"
    }
   ],
   "source": [
    "# Write your code here\n",
    "# 1.find all the lines with car/Car/cars/Cars using a regular expression\n",
    "cars_df = sets[sets.name.str.contains(\" (c|C)ar(s|$|\\s)\", regex=True)]\n",
    "\n",
    "# 2. plot distribution of part categories\n",
    "# Merge the parts without the name colum (we don't want parts name), with categories\n",
    "parts_df = pd.merge(parts[['id', 'part_cat_id']], part_categories, left_on=['part_cat_id'], right_on=['id'], how='outer')\n",
    "# Group by part_cat_id (and its specific name, which doesn't have any effect on the grouping), and get the top 20 largest counts of parts\n",
    "counts_by_parts_df = parts_df.groupby(['part_cat_id', 'name']).size().nlargest(20)\n",
    "counts_by_parts_df.plot(x='name', y='counts', kind='barh', title='Distribution of Category Parts')"
   ]
  },
  {
   "cell_type": "code",
   "execution_count": 153,
   "metadata": {},
   "outputs": [
    {
     "data": {
      "image/png": "[encoded data removed]",
      "text/plain": [
       "<matplotlib.figure.Figure at 0x1154a55c0>"
      ]
     },
     "metadata": {
      "needs_background": "light"
     },
     "output_type": "display_data"
    }
   ],
   "source": [
    "# 3. Find the dominant color of each set. \n",
    "# Then, plot using a (horizontal) bar chart, \n",
    "# the number of sets per dominant color. \n",
    "# Color each bar with the respective color that it represents.\n",
    "\n",
    "# rename to differentiate between inventories\n",
    "inventory_sets_renamed = inventory_sets.rename(index=str, columns={\"quantity\": \"inventory quantity\"})\n",
    "inventory_parts_renamed = inventory_parts.rename(index=str, columns={\"quantity\": \"part quantity\"})\n",
    "\n",
    "# match color_id with inventory_sets\n",
    "sets_with_color = pd.merge(inventory_sets_renamed, inventory_parts_renamed[['inventory_id', 'color_id', 'part_id', 'part quantity']], how='inner').dropna()\n",
    "# drop all rows with only color infos\n",
    "sets_with_color_names = pd.merge(sets_with_color, colors[['id', 'rgb', 'name']], left_on=['color_id'], right_on=['id'], how='inner').dropna()\n",
    "\n",
    "# calculate total number of parts per set\n",
    "sets_with_color_names['total number of parts per set'] = sets_with_color_names['part quantity'] * sets_with_color_names['inventory quantity']\n",
    "sets_with_color_counts = sets_with_color_names.groupby(['set_id', 'color_id', 'name', 'rgb'])['total number of parts per set'].sum().reset_index(name='count')\n",
    "\n",
    "# find the dominant color per set\n",
    "dominant_color_per_set = sets_with_color_counts.iloc[sets_with_color_counts.groupby(['set_id']).apply(lambda x: x['count'].idxmax())]\n",
    "nb_sets_per_dominant_color = dominant_color_per_set.groupby(['rgb', 'name'])['set_id'].size()\n",
    "\n",
    "# Prepare to plot the graph\n",
    "color_list = nb_sets_per_dominant_color.reset_index(name='Set per color')\n",
    "color_rgb = ['#' + color for color in color_list['rgb']]\n",
    "graph = nb_sets_per_dominant_color.plot(x='name', kind='barh', color=color_rgb, title='Set Distribution of Each Colour')\n",
    "graph\n",
    "graph.set_facecolor('#e6e6fa')"
   ]
  },
  {
   "cell_type": "markdown",
   "metadata": {},
   "source": [
    "Question 4:\n",
    "\n",
    "We received mixed information on whether we should plot the luminance of the dominant color of each set, or if we should plot all the luminances for each set. In order to address this inconsistency, we have decided to present both graphs. The first graph displays the luminance of only the dominant color, and the second graph displays all luminances of each set."
   ]
  },
  {
   "cell_type": "code",
   "execution_count": 154,
   "metadata": {},
   "outputs": [
    {
     "data": {
      "text/plain": [
       "<matplotlib.axes._subplots.AxesSubplot at 0x1458fd1d0>"
      ]
     },
     "execution_count": 154,
     "metadata": {},
     "output_type": "execute_result"
    },
    {
     "data": {
      "image/png": "[encoded data removed]",
      "text/plain": [
       "<matplotlib.figure.Figure at 0x115355588>"
      ]
     },
     "metadata": {
      "needs_background": "light"
     },
     "output_type": "display_data"
    }
   ],
   "source": [
    "# 4. Create a scatter plot of the luminance* of the sets vs their publishing year. \n",
    "# What do you observe for the years 1980-1981? How do you interpret what you see?\n",
    "#sets['luminance'] = sets.apply(lambda row: np.sqrt(0.299* R**2 + 0.587* G**2 + 0.114*G**2) row[''])\n",
    "\n",
    "# sets_year_with_inventory_id = pd.merge(sets[['id', 'year']], inventory_sets[['inventory_id', 'set_id']], left_on=['id'], right_on=['set_id'], how='inner')\n",
    "# sets_year_with_color = pd.merge(sets_year_with_inventory_id, inventory_parts[['inventory_id', 'color_id']], how='inner')\n",
    "# sets_year_with_color_rgb = pd.merge(sets_year_with_color, colors[['id', 'rgb']], left_on=['color_id'], right_on=['id'], how='inner')\n",
    "\n",
    "dominant_color_per_set_year = pd.merge(sets[['id', 'year']], dominant_color_per_set, left_on=['id'], right_on=['set_id'], how='right')\n",
    "\n",
    "# extract 0:2, 2:4 and 4:6 of rgb into R, G, B arrays interpreted as int of base 16 (hexadecimal)\n",
    "dominant_color_per_set_year['R2'] = dominant_color_per_set_year['rgb'].apply(lambda color: int(color[0:2], 16)**2)\n",
    "dominant_color_per_set_year['G2'] = dominant_color_per_set_year['rgb'].apply(lambda color: int(color[2:4], 16)**2)\n",
    "dominant_color_per_set_year['B2'] = dominant_color_per_set_year['rgb'].apply(lambda color: int(color[4:6], 16)**2)\n",
    "\n",
    "\n",
    "#sets_year_color_count = sets_year_with_color_rgb.groupby(['set_id', 'rgb']).size().reset_index(name='color count')\n",
    "#sets_year_color_count\n",
    "#sets_color = sets_year_color_count.groupby(['set_id']).apply(lambda x: x.loc[x['color count'] == x['color count'].max()])\n",
    "luminance_year = dominant_color_per_set_year['year'].copy().to_frame()\n",
    "luminance_year['luminance'] = np.sqrt(0.299*dominant_color_per_set_year['R2'] + 0.587*dominant_color_per_set_year['G2'] + 0.114*dominant_color_per_set_year['B2'])\n",
    "#luminance_year = luminance_year.drop_duplicates()\n",
    "\n",
    "luminance_year.plot(x='year', y='luminance', kind='scatter', title='Luminance of the sets in their publishing year')"
   ]
  },
  {
   "cell_type": "code",
   "execution_count": 155,
   "metadata": {},
   "outputs": [],
   "source": [
    "# 4. Create a scatter plot of the luminance* of the sets vs their publishing year. \n",
    "# What do you observe for the years 1980-1981? How do you interpret what you see?\n",
    "\n",
    "sets_ids = pd.merge(inventory_sets, sets, left_on='set_id', right_on= 'id', how='left')\n",
    "inventory_ids = pd.merge(sets_ids, inventory_parts, left_on='inventory_id', right_on= 'inventory_id', how='left')\n",
    "color_ids = pd.merge(colors, inventory_ids, left_on='id', right_on= 'color_id', how='inner')\n",
    "\n",
    "R = color_ids.rgb.astype(str).apply(lambda x: int(x[0:2], 16))\n",
    "G = color_ids.rgb.astype(str).apply(lambda x: int(x[2:4], 16))\n",
    "B = color_ids.rgb.astype(str).apply(lambda x: int(x[4:6], 16))\n",
    "color_ids['luminance'] = (0.299 * R**2 + 0.587 * G**2 + 0.114 * B**2)**(1/2)\n",
    "color_ids['year'] = color_ids.year.astype(np.int64)"
   ]
  },
  {
   "cell_type": "code",
   "execution_count": 156,
   "metadata": {},
   "outputs": [
    {
     "data": {
      "text/plain": [
       "<matplotlib.axes._subplots.AxesSubplot at 0x144b34198>"
      ]
     },
     "execution_count": 156,
     "metadata": {},
     "output_type": "execute_result"
    },
    {
     "data": {
      "image/png": "[encoded data removed]",
      "text/plain": [
       "<matplotlib.figure.Figure at 0x144858cf8>"
      ]
     },
     "metadata": {
      "needs_background": "light"
     },
     "output_type": "display_data"
    }
   ],
   "source": [
    "ax = color_ids.plot(kind='scatter', x='year', y='luminance')\n",
    "ax"
   ]
  },
  {
   "cell_type": "markdown",
   "metadata": {},
   "source": [
    "In both graphs, we notice that over the last few years, LEGO started to produce steadily sets' with lower luminance (the points inline on the bottom from 2000 to 2010) as (dominant) color. We also noticed that from the 2000s, LEGO's sets tends to have more variation in the luminance than the previous years, if we omit the years 1980 and 1981 in the full-color (not just dominant color) plot."
   ]
  },
  {
   "cell_type": "markdown",
   "metadata": {},
   "source": [
    "## Task B. Drop the bike\n",
    "\n",
    "*Los Angeles Metro* has been sharing publicly [anonymized *Metro Bike Share* trip data](https://bikeshare.metro.net/about/data/) under the [Open Database License (ODbL)](http://opendatacommons.org/licenses/odbl/1.0/).\n",
    "\n",
    "In this task you will again perform data wrangling and interpretation."
   ]
  },
  {
   "cell_type": "markdown",
   "metadata": {},
   "source": [
    "### B1. Loading phase\n",
    "Load the json file into a `DataFrame`.\n"
   ]
  },
  {
   "cell_type": "code",
   "execution_count": 157,
   "metadata": {},
   "outputs": [],
   "source": [
    "BIKES_DATA_FOLDER = DATA_FOLDER + '/bikes'"
   ]
  },
  {
   "cell_type": "code",
   "execution_count": 158,
   "metadata": {},
   "outputs": [],
   "source": [
    "# Write your code here\n",
    "bikes = pd.read_json(BIKES_DATA_FOLDER + \"/metro-bike-share-trip-data.json.zip\")"
   ]
  },
  {
   "cell_type": "markdown",
   "metadata": {},
   "source": [
    "### B2. Cleaning phase\n",
    "Describe the type and the value range of each attribute. Indicate and transform the attributes that are `Categorical`. Are there redundant columns in the dataset (i.e., are there columns whose value depends only on the value of another column)? What are the possible pitfalls of having such columns? Reduce *data redundancy* by extracting such columns to separate `DataFrames`. Which of the two formats (the initial one or the one with reduced data redundancy) is more susceptible to inconsistencies? At the end print for each `Dataframe` the *type of each column* and it's *shape*."
   ]
  },
  {
   "cell_type": "markdown",
   "metadata": {},
   "source": [
    "#### Attribute Types"
   ]
  },
  {
   "cell_type": "code",
   "execution_count": 159,
   "metadata": {
    "scrolled": true
   },
   "outputs": [
    {
     "data": {
      "text/plain": [
       "Bike ID                       float64\n",
       "Duration                        int64\n",
       "End Time                       object\n",
       "Ending Station ID             float64\n",
       "Ending Station Latitude       float64\n",
       "Ending Station Longitude      float64\n",
       "Passholder Type                object\n",
       "Plan Duration                 float64\n",
       "Start Time                     object\n",
       "Starting Station ID           float64\n",
       "Starting Station Latitude     float64\n",
       "Starting Station Longitude    float64\n",
       "Trip ID                         int64\n",
       "Trip Route Category            object\n",
       "dtype: object"
      ]
     },
     "execution_count": 159,
     "metadata": {},
     "output_type": "execute_result"
    }
   ],
   "source": [
    "bikes.dtypes"
   ]
  },
  {
   "cell_type": "markdown",
   "metadata": {},
   "source": [
    "See above output for attribute types. In addition to above description: Passholder Type and Trip Route Category are categorical variables. Start Time and End Time are date and time attributes."
   ]
  },
  {
   "cell_type": "markdown",
   "metadata": {},
   "source": [
    "#### Attribute Value Range"
   ]
  },
  {
   "cell_type": "code",
   "execution_count": 160,
   "metadata": {},
   "outputs": [
    {
     "data": {
      "text/html": [
       "<div>\n",
       "<style scoped>\n",
       "    .dataframe tbody tr th:only-of-type {\n",
       "        vertical-align: middle;\n",
       "    }\n",
       "\n",
       "    .dataframe tbody tr th {\n",
       "        vertical-align: top;\n",
       "    }\n",
       "\n",
       "    .dataframe thead th {\n",
       "        text-align: right;\n",
       "    }\n",
       "</style>\n",
       "<table border=\"1\" class=\"dataframe\">\n",
       "  <thead>\n",
       "    <tr style=\"text-align: right;\">\n",
       "      <th></th>\n",
       "      <th>Bike ID</th>\n",
       "      <th>Duration</th>\n",
       "      <th>Ending Station ID</th>\n",
       "      <th>Ending Station Latitude</th>\n",
       "      <th>Ending Station Longitude</th>\n",
       "      <th>Plan Duration</th>\n",
       "      <th>Starting Station ID</th>\n",
       "      <th>Starting Station Latitude</th>\n",
       "      <th>Starting Station Longitude</th>\n",
       "      <th>Trip ID</th>\n",
       "    </tr>\n",
       "  </thead>\n",
       "  <tbody>\n",
       "    <tr>\n",
       "      <th>count</th>\n",
       "      <td>132417.000000</td>\n",
       "      <td>132427.000000</td>\n",
       "      <td>132331.00000</td>\n",
       "      <td>131376.000000</td>\n",
       "      <td>131376.000000</td>\n",
       "      <td>131661.000000</td>\n",
       "      <td>132408.000000</td>\n",
       "      <td>132379.000000</td>\n",
       "      <td>132379.000000</td>\n",
       "      <td>1.324270e+05</td>\n",
       "    </tr>\n",
       "    <tr>\n",
       "      <th>mean</th>\n",
       "      <td>6193.618878</td>\n",
       "      <td>1555.301562</td>\n",
       "      <td>3042.38672</td>\n",
       "      <td>34.034614</td>\n",
       "      <td>-118.206642</td>\n",
       "      <td>44.821967</td>\n",
       "      <td>3043.020754</td>\n",
       "      <td>34.039309</td>\n",
       "      <td>-118.221534</td>\n",
       "      <td>1.153001e+07</td>\n",
       "    </tr>\n",
       "    <tr>\n",
       "      <th>std</th>\n",
       "      <td>293.606755</td>\n",
       "      <td>5814.241813</td>\n",
       "      <td>43.08440</td>\n",
       "      <td>0.650706</td>\n",
       "      <td>2.259913</td>\n",
       "      <td>90.411579</td>\n",
       "      <td>37.742021</td>\n",
       "      <td>0.529336</td>\n",
       "      <td>1.838335</td>\n",
       "      <td>6.369462e+06</td>\n",
       "    </tr>\n",
       "    <tr>\n",
       "      <th>min</th>\n",
       "      <td>1349.000000</td>\n",
       "      <td>60.000000</td>\n",
       "      <td>3000.00000</td>\n",
       "      <td>0.000000</td>\n",
       "      <td>-118.472832</td>\n",
       "      <td>0.000000</td>\n",
       "      <td>3000.000000</td>\n",
       "      <td>0.000000</td>\n",
       "      <td>-118.472832</td>\n",
       "      <td>1.912818e+06</td>\n",
       "    </tr>\n",
       "    <tr>\n",
       "      <th>25%</th>\n",
       "      <td>5953.000000</td>\n",
       "      <td>360.000000</td>\n",
       "      <td>3022.00000</td>\n",
       "      <td>34.044159</td>\n",
       "      <td>-118.256981</td>\n",
       "      <td>0.000000</td>\n",
       "      <td>3024.000000</td>\n",
       "      <td>34.044170</td>\n",
       "      <td>-118.256980</td>\n",
       "      <td>5.060814e+06</td>\n",
       "    </tr>\n",
       "    <tr>\n",
       "      <th>50%</th>\n",
       "      <td>6186.000000</td>\n",
       "      <td>600.000000</td>\n",
       "      <td>3038.00000</td>\n",
       "      <td>34.046810</td>\n",
       "      <td>-118.250954</td>\n",
       "      <td>30.000000</td>\n",
       "      <td>3040.000000</td>\n",
       "      <td>34.046822</td>\n",
       "      <td>-118.250954</td>\n",
       "      <td>1.043827e+07</td>\n",
       "    </tr>\n",
       "    <tr>\n",
       "      <th>75%</th>\n",
       "      <td>6434.000000</td>\n",
       "      <td>1080.000000</td>\n",
       "      <td>3063.00000</td>\n",
       "      <td>34.050480</td>\n",
       "      <td>-118.238810</td>\n",
       "      <td>30.000000</td>\n",
       "      <td>3063.000000</td>\n",
       "      <td>34.050880</td>\n",
       "      <td>-118.241562</td>\n",
       "      <td>1.720633e+07</td>\n",
       "    </tr>\n",
       "    <tr>\n",
       "      <th>max</th>\n",
       "      <td>6728.000000</td>\n",
       "      <td>86400.000000</td>\n",
       "      <td>4108.00000</td>\n",
       "      <td>34.064281</td>\n",
       "      <td>0.000000</td>\n",
       "      <td>365.000000</td>\n",
       "      <td>4108.000000</td>\n",
       "      <td>34.064281</td>\n",
       "      <td>0.000000</td>\n",
       "      <td>2.379422e+07</td>\n",
       "    </tr>\n",
       "  </tbody>\n",
       "</table>\n",
       "</div>"
      ],
      "text/plain": [
       "             Bike ID       Duration  Ending Station ID  \\\n",
       "count  132417.000000  132427.000000       132331.00000   \n",
       "mean     6193.618878    1555.301562         3042.38672   \n",
       "std       293.606755    5814.241813           43.08440   \n",
       "min      1349.000000      60.000000         3000.00000   \n",
       "25%      5953.000000     360.000000         3022.00000   \n",
       "50%      6186.000000     600.000000         3038.00000   \n",
       "75%      6434.000000    1080.000000         3063.00000   \n",
       "max      6728.000000   86400.000000         4108.00000   \n",
       "\n",
       "       Ending Station Latitude  Ending Station Longitude  Plan Duration  \\\n",
       "count            131376.000000             131376.000000  131661.000000   \n",
       "mean                 34.034614               -118.206642      44.821967   \n",
       "std                   0.650706                  2.259913      90.411579   \n",
       "min                   0.000000               -118.472832       0.000000   \n",
       "25%                  34.044159               -118.256981       0.000000   \n",
       "50%                  34.046810               -118.250954      30.000000   \n",
       "75%                  34.050480               -118.238810      30.000000   \n",
       "max                  34.064281                  0.000000     365.000000   \n",
       "\n",
       "       Starting Station ID  Starting Station Latitude  \\\n",
       "count        132408.000000              132379.000000   \n",
       "mean           3043.020754                  34.039309   \n",
       "std              37.742021                   0.529336   \n",
       "min            3000.000000                   0.000000   \n",
       "25%            3024.000000                  34.044170   \n",
       "50%            3040.000000                  34.046822   \n",
       "75%            3063.000000                  34.050880   \n",
       "max            4108.000000                  34.064281   \n",
       "\n",
       "       Starting Station Longitude       Trip ID  \n",
       "count               132379.000000  1.324270e+05  \n",
       "mean                  -118.221534  1.153001e+07  \n",
       "std                      1.838335  6.369462e+06  \n",
       "min                   -118.472832  1.912818e+06  \n",
       "25%                   -118.256980  5.060814e+06  \n",
       "50%                   -118.250954  1.043827e+07  \n",
       "75%                   -118.241562  1.720633e+07  \n",
       "max                      0.000000  2.379422e+07  "
      ]
     },
     "execution_count": 160,
     "metadata": {},
     "output_type": "execute_result"
    }
   ],
   "source": [
    "bikes.describe()"
   ]
  },
  {
   "cell_type": "markdown",
   "metadata": {},
   "source": [
    "#### Categorical and Redundant Attributes"
   ]
  },
  {
   "cell_type": "code",
   "execution_count": 161,
   "metadata": {},
   "outputs": [],
   "source": [
    "bikes['Passholder Type'] = bikes['Passholder Type'].astype('category')\n",
    "bikes['Trip Route Category'] = bikes['Trip Route Category'].astype('category')"
   ]
  },
  {
   "cell_type": "markdown",
   "metadata": {},
   "source": [
    "The attributes that are categorical include:\n",
    "1. Passholder Type \n",
    "2. Trip Route Category\n",
    "\n",
    "Redundant columns include:\n",
    "1. Ending/Starting Station Latitude/Longitude (these 4 attributes all depend on their respective station ID)\n",
    "2. Plan Duration (plan duration depends only on passholder type)\n",
    "\n",
    "Possible pitfalls of redundant attributes:\n",
    "1. Unnecessary increase of dataframe size\n",
    "2. Decrease in efficiency when doing computation on the dataframe due to size increase\n",
    "3. May cause data inconsistency --> for example, if you update one column but forget to update the related or dependant column\n"
   ]
  },
  {
   "cell_type": "markdown",
   "metadata": {},
   "source": [
    "### Inconsistencies\n",
    "\n",
    "We noticed some inconsistencies in the Duration values.\n",
    "\n",
    "1. The trips are never over 24h. The highest values found is 86400.\n",
    "2. Some of the trips duration are not correctly calculated, as shown previously (ex. for trip ID 12517325, the duration between 00:32:00 and 11:12:00 of the same day should be 10.67 hours (38400 seconds), but the given duration is 11.76 hours)."
   ]
  },
  {
   "cell_type": "code",
   "execution_count": 162,
   "metadata": {},
   "outputs": [
    {
     "data": {
      "text/html": [
       "<div>\n",
       "<style scoped>\n",
       "    .dataframe tbody tr th:only-of-type {\n",
       "        vertical-align: middle;\n",
       "    }\n",
       "\n",
       "    .dataframe tbody tr th {\n",
       "        vertical-align: top;\n",
       "    }\n",
       "\n",
       "    .dataframe thead th {\n",
       "        text-align: right;\n",
       "    }\n",
       "</style>\n",
       "<table border=\"1\" class=\"dataframe\">\n",
       "  <thead>\n",
       "    <tr style=\"text-align: right;\">\n",
       "      <th></th>\n",
       "      <th>Trip ID</th>\n",
       "      <th>Duration</th>\n",
       "      <th>Real Duration</th>\n",
       "    </tr>\n",
       "  </thead>\n",
       "  <tbody>\n",
       "    <tr>\n",
       "      <th>76450</th>\n",
       "      <td>12531961</td>\n",
       "      <td>71280</td>\n",
       "      <td>67680</td>\n",
       "    </tr>\n",
       "    <tr>\n",
       "      <th>76530</th>\n",
       "      <td>12531865</td>\n",
       "      <td>55560</td>\n",
       "      <td>51960</td>\n",
       "    </tr>\n",
       "    <tr>\n",
       "      <th>76537</th>\n",
       "      <td>12517325</td>\n",
       "      <td>42000</td>\n",
       "      <td>38400</td>\n",
       "    </tr>\n",
       "    <tr>\n",
       "      <th>123230</th>\n",
       "      <td>21945889</td>\n",
       "      <td>56340</td>\n",
       "      <td>59940</td>\n",
       "    </tr>\n",
       "    <tr>\n",
       "      <th>123234</th>\n",
       "      <td>21893148</td>\n",
       "      <td>2460</td>\n",
       "      <td>6060</td>\n",
       "    </tr>\n",
       "    <tr>\n",
       "      <th>123235</th>\n",
       "      <td>21949898</td>\n",
       "      <td>54480</td>\n",
       "      <td>58080</td>\n",
       "    </tr>\n",
       "  </tbody>\n",
       "</table>\n",
       "</div>"
      ],
      "text/plain": [
       "         Trip ID  Duration  Real Duration\n",
       "76450   12531961     71280          67680\n",
       "76530   12531865     55560          51960\n",
       "76537   12517325     42000          38400\n",
       "123230  21945889     56340          59940\n",
       "123234  21893148      2460           6060\n",
       "123235  21949898     54480          58080"
      ]
     },
     "execution_count": 162,
     "metadata": {},
     "output_type": "execute_result"
    }
   ],
   "source": [
    "# Convert time into real time\n",
    "bikes['Start Time'] = pd.to_datetime(bikes['Start Time'])\n",
    "bikes['End Time'] = pd.to_datetime(bikes['End Time'])\n",
    "# Verify the Duration is all good\n",
    "bikes['Real Duration'] = (bikes['End Time'] - bikes['Start Time']).dt.total_seconds()\n",
    "bikes['Real Duration'] = bikes['Real Duration'].astype(int)\n",
    "\n",
    "bikes.loc[(bikes['Duration']!=bikes['Real Duration']) & (bikes['Duration']!=86400)][['Trip ID', 'Duration', 'Real Duration']]"
   ]
  },
  {
   "cell_type": "markdown",
   "metadata": {},
   "source": [
    "For stations' latitude and longitude, we also noticed that we need to drop duplicates not only when the 3 values (Station ID, Latitude, Longitude) are the same, but by filtering the Station ID. Some records of the Latitude and Longitude for the same station are not exactly the same, as we can see for Station 3005. The longitude is slightly off in the 55509th record."
   ]
  },
  {
   "cell_type": "code",
   "execution_count": 163,
   "metadata": {},
   "outputs": [
    {
     "data": {
      "text/html": [
       "<div>\n",
       "<style scoped>\n",
       "    .dataframe tbody tr th:only-of-type {\n",
       "        vertical-align: middle;\n",
       "    }\n",
       "\n",
       "    .dataframe tbody tr th {\n",
       "        vertical-align: top;\n",
       "    }\n",
       "\n",
       "    .dataframe thead th {\n",
       "        text-align: right;\n",
       "    }\n",
       "</style>\n",
       "<table border=\"1\" class=\"dataframe\">\n",
       "  <thead>\n",
       "    <tr style=\"text-align: right;\">\n",
       "      <th></th>\n",
       "      <th>Station ID</th>\n",
       "      <th>Station Latitude</th>\n",
       "      <th>Station Longitude</th>\n",
       "    </tr>\n",
       "  </thead>\n",
       "  <tbody>\n",
       "    <tr>\n",
       "      <th>25</th>\n",
       "      <td>3005.0</td>\n",
       "      <td>34.04855</td>\n",
       "      <td>-118.259050</td>\n",
       "    </tr>\n",
       "    <tr>\n",
       "      <th>55509</th>\n",
       "      <td>3005.0</td>\n",
       "      <td>34.04855</td>\n",
       "      <td>-118.259048</td>\n",
       "    </tr>\n",
       "  </tbody>\n",
       "</table>\n",
       "</div>"
      ],
      "text/plain": [
       "       Station ID  Station Latitude  Station Longitude\n",
       "25         3005.0          34.04855        -118.259050\n",
       "55509      3005.0          34.04855        -118.259048"
      ]
     },
     "execution_count": 163,
     "metadata": {},
     "output_type": "execute_result"
    }
   ],
   "source": [
    "# Get all stations informations\n",
    "starting_stations = bikes[['Starting Station ID', 'Starting Station Latitude', 'Starting Station Longitude']]\n",
    "starting_stations = starting_stations.rename(index=str, columns={\"Starting Station ID\": \"Station ID\", \"Starting Station Latitude\": \"Station Latitude\", \"Starting Station Longitude\":\"Station Longitude\"})\n",
    "ending_stations = bikes[['Ending Station ID', 'Ending Station Latitude', 'Ending Station Longitude']]\n",
    "ending_stations = ending_stations.rename(index=str, columns={\"Ending Station ID\": \"Station ID\", \"Ending Station Latitude\": \"Station Latitude\", \"Ending Station Longitude\":\"Station Longitude\"})\n",
    "station_coordinates = pd.concat([starting_stations, ending_stations], axis=0, sort=True)\n",
    "\n",
    "station_coordinates.loc[stations['Station ID'] == 3005].drop_duplicates().head()"
   ]
  },
  {
   "cell_type": "code",
   "execution_count": 164,
   "metadata": {},
   "outputs": [
    {
     "data": {
      "text/html": [
       "<div>\n",
       "<style scoped>\n",
       "    .dataframe tbody tr th:only-of-type {\n",
       "        vertical-align: middle;\n",
       "    }\n",
       "\n",
       "    .dataframe tbody tr th {\n",
       "        vertical-align: top;\n",
       "    }\n",
       "\n",
       "    .dataframe thead th {\n",
       "        text-align: right;\n",
       "    }\n",
       "</style>\n",
       "<table border=\"1\" class=\"dataframe\">\n",
       "  <thead>\n",
       "    <tr style=\"text-align: right;\">\n",
       "      <th></th>\n",
       "      <th>Station ID</th>\n",
       "      <th>Station Latitude</th>\n",
       "      <th>Station Longitude</th>\n",
       "    </tr>\n",
       "  </thead>\n",
       "  <tbody>\n",
       "    <tr>\n",
       "      <th>0</th>\n",
       "      <td>3000</td>\n",
       "      <td>NaN</td>\n",
       "      <td>NaN</td>\n",
       "    </tr>\n",
       "    <tr>\n",
       "      <th>1</th>\n",
       "      <td>3005</td>\n",
       "      <td>34.048550</td>\n",
       "      <td>-118.25905</td>\n",
       "    </tr>\n",
       "    <tr>\n",
       "      <th>2</th>\n",
       "      <td>3006</td>\n",
       "      <td>34.045540</td>\n",
       "      <td>-118.25667</td>\n",
       "    </tr>\n",
       "    <tr>\n",
       "      <th>3</th>\n",
       "      <td>3007</td>\n",
       "      <td>34.050480</td>\n",
       "      <td>-118.25459</td>\n",
       "    </tr>\n",
       "    <tr>\n",
       "      <th>4</th>\n",
       "      <td>3008</td>\n",
       "      <td>34.046612</td>\n",
       "      <td>-118.26273</td>\n",
       "    </tr>\n",
       "  </tbody>\n",
       "</table>\n",
       "</div>"
      ],
      "text/plain": [
       "   Station ID  Station Latitude  Station Longitude\n",
       "0        3000               NaN                NaN\n",
       "1        3005         34.048550         -118.25905\n",
       "2        3006         34.045540         -118.25667\n",
       "3        3007         34.050480         -118.25459\n",
       "4        3008         34.046612         -118.26273"
      ]
     },
     "execution_count": 164,
     "metadata": {},
     "output_type": "execute_result"
    }
   ],
   "source": [
    "station_coordinates = station_coordinates.drop_duplicates(subset='Station ID').dropna(how='all').sort_values(by='Station ID').reset_index(drop=True)\n",
    "station_coordinates['Station ID'] = station_coordinates['Station ID'].astype(int)\n",
    "station_coordinates.head()"
   ]
  },
  {
   "cell_type": "markdown",
   "metadata": {},
   "source": [
    "Furthermore, for the passholder types, we noticed that there is a row where Monthly Pass is missing the value for Plan Duration (which should be 30 days). We decided to drop that row in the Passholder table to keep consistency. See below example for details."
   ]
  },
  {
   "cell_type": "code",
   "execution_count": 165,
   "metadata": {},
   "outputs": [
    {
     "data": {
      "text/html": [
       "<div>\n",
       "<style scoped>\n",
       "    .dataframe tbody tr th:only-of-type {\n",
       "        vertical-align: middle;\n",
       "    }\n",
       "\n",
       "    .dataframe tbody tr th {\n",
       "        vertical-align: top;\n",
       "    }\n",
       "\n",
       "    .dataframe thead th {\n",
       "        text-align: right;\n",
       "    }\n",
       "</style>\n",
       "<table border=\"1\" class=\"dataframe\">\n",
       "  <thead>\n",
       "    <tr style=\"text-align: right;\">\n",
       "      <th></th>\n",
       "      <th>Passholder Type</th>\n",
       "      <th>Plan Duration</th>\n",
       "    </tr>\n",
       "  </thead>\n",
       "  <tbody>\n",
       "    <tr>\n",
       "      <th>0</th>\n",
       "      <td>Monthly Pass</td>\n",
       "      <td>30.0</td>\n",
       "    </tr>\n",
       "    <tr>\n",
       "      <th>2</th>\n",
       "      <td>Flex Pass</td>\n",
       "      <td>365.0</td>\n",
       "    </tr>\n",
       "    <tr>\n",
       "      <th>4</th>\n",
       "      <td>Walk-up</td>\n",
       "      <td>0.0</td>\n",
       "    </tr>\n",
       "    <tr>\n",
       "      <th>55790</th>\n",
       "      <td>Staff Annual</td>\n",
       "      <td>NaN</td>\n",
       "    </tr>\n",
       "    <tr>\n",
       "      <th>98675</th>\n",
       "      <td>Monthly Pass</td>\n",
       "      <td>NaN</td>\n",
       "    </tr>\n",
       "  </tbody>\n",
       "</table>\n",
       "</div>"
      ],
      "text/plain": [
       "      Passholder Type  Plan Duration\n",
       "0        Monthly Pass           30.0\n",
       "2           Flex Pass          365.0\n",
       "4             Walk-up            0.0\n",
       "55790    Staff Annual            NaN\n",
       "98675    Monthly Pass            NaN"
      ]
     },
     "execution_count": 165,
     "metadata": {},
     "output_type": "execute_result"
    }
   ],
   "source": [
    "#New table with Passholder type and plan durations\n",
    "pass_holders = bikes.iloc[:, 6:8].drop_duplicates()\n",
    "pass_holders"
   ]
  },
  {
   "cell_type": "code",
   "execution_count": 166,
   "metadata": {},
   "outputs": [
    {
     "data": {
      "text/html": [
       "<div>\n",
       "<style scoped>\n",
       "    .dataframe tbody tr th:only-of-type {\n",
       "        vertical-align: middle;\n",
       "    }\n",
       "\n",
       "    .dataframe tbody tr th {\n",
       "        vertical-align: top;\n",
       "    }\n",
       "\n",
       "    .dataframe thead th {\n",
       "        text-align: right;\n",
       "    }\n",
       "</style>\n",
       "<table border=\"1\" class=\"dataframe\">\n",
       "  <thead>\n",
       "    <tr style=\"text-align: right;\">\n",
       "      <th></th>\n",
       "      <th>Passholder Type</th>\n",
       "      <th>Plan Duration</th>\n",
       "    </tr>\n",
       "  </thead>\n",
       "  <tbody>\n",
       "    <tr>\n",
       "      <th>0</th>\n",
       "      <td>Monthly Pass</td>\n",
       "      <td>30.0</td>\n",
       "    </tr>\n",
       "    <tr>\n",
       "      <th>2</th>\n",
       "      <td>Flex Pass</td>\n",
       "      <td>365.0</td>\n",
       "    </tr>\n",
       "    <tr>\n",
       "      <th>4</th>\n",
       "      <td>Walk-up</td>\n",
       "      <td>0.0</td>\n",
       "    </tr>\n",
       "    <tr>\n",
       "      <th>55790</th>\n",
       "      <td>Staff Annual</td>\n",
       "      <td>NaN</td>\n",
       "    </tr>\n",
       "  </tbody>\n",
       "</table>\n",
       "</div>"
      ],
      "text/plain": [
       "      Passholder Type  Plan Duration\n",
       "0        Monthly Pass           30.0\n",
       "2           Flex Pass          365.0\n",
       "4             Walk-up            0.0\n",
       "55790    Staff Annual            NaN"
      ]
     },
     "execution_count": 166,
     "metadata": {},
     "output_type": "execute_result"
    }
   ],
   "source": [
    "pass_holders = pass_holders.drop([98675]) #drop row where monthly pass has NaN plan duration\n",
    "pass_holders"
   ]
  },
  {
   "cell_type": "code",
   "execution_count": 167,
   "metadata": {},
   "outputs": [],
   "source": [
    "#Clean up original df\n",
    "del bikes['Ending Station Latitude']\n",
    "del bikes['Ending Station Longitude']\n",
    "del bikes['Starting Station Latitude']\n",
    "del bikes['Starting Station Longitude']\n",
    "del bikes['Plan Duration']"
   ]
  },
  {
   "cell_type": "markdown",
   "metadata": {},
   "source": [
    "The original dataframe was more susceptible for data inconsistency. This is because by creating another dataframe, it is easier to update redundant or dependant columns via the new dataframe, rather than update the entire original dataframe. For example, if you wanted to update the latitude/longitude of a particular station, you just need to change one row in the station_coordinates dataframe. If this table didn't exist, you would have to search both ending and starting station IDs in the original table and change every row that contains the particular station. These added steps result in higher chance of data inconsistency (for example, if you miss a specific row, or only search the ending station IDs column, you will end up with station IDs with different coordinates)."
   ]
  },
  {
   "cell_type": "code",
   "execution_count": 168,
   "metadata": {},
   "outputs": [
    {
     "name": "stdout",
     "output_type": "stream",
     "text": [
      "Bikes Dataframe\n",
      "(132427, 10)\n",
      "Bike ID                       float64\n",
      "Duration                        int64\n",
      "End Time               datetime64[ns]\n",
      "Ending Station ID             float64\n",
      "Passholder Type              category\n",
      "Start Time             datetime64[ns]\n",
      "Starting Station ID           float64\n",
      "Trip ID                         int64\n",
      "Trip Route Category          category\n",
      "Real Duration                   int64\n",
      "dtype: object\n",
      "\n",
      "Station_Coordinates Dataframe\n",
      "(67, 3)\n",
      "Station ID             int64\n",
      "Station Latitude     float64\n",
      "Station Longitude    float64\n",
      "dtype: object\n",
      "\n",
      "PassHolders Dataframe\n",
      "(4, 2)\n",
      "Passholder Type    category\n",
      "Plan Duration       float64\n",
      "dtype: object\n"
     ]
    }
   ],
   "source": [
    "print(\"Bikes Dataframe\")\n",
    "print(bikes.shape)\n",
    "print(bikes.dtypes)\n",
    "\n",
    "print(\"\\nStation_Coordinates Dataframe\")\n",
    "print(station_coordinates.shape)\n",
    "print(station_coordinates.dtypes)\n",
    "\n",
    "print(\"\\nPassHolders Dataframe\")\n",
    "print(pass_holders.shape)\n",
    "print(pass_holders.dtypes)"
   ]
  },
  {
   "cell_type": "markdown",
   "metadata": {},
   "source": [
    "__\\* Briefly explain your approach here \\*__"
   ]
  },
  {
   "cell_type": "markdown",
   "metadata": {},
   "source": [
    "\n",
    "The dataframes: \n",
    "\n",
    "bikes: 'Bike ID', 'Trip ID', 'Start Time', 'End Time', 'Duration', 'Starting Station ID', 'Ending Station ID', 'Trip Route Category', 'Passholder Type', 'Real Duration'\n",
    "\n",
    "station_coordinates: Station ID, Station Latitude, Station Longitude\n",
    "\n",
    "pass_holders : Passholder Type, Plan Duration"
   ]
  },
  {
   "cell_type": "markdown",
   "metadata": {},
   "source": [
    "### B3. Querying phase\n",
    "Answer the following queries using the functionality of `Pandas`.\n",
    "\n",
    "1. Plot the *distribution* of the number of outgoing trips from each station in a histogram with 20 bins (Hint: each bin describes a range of counts, not stations).\n",
    "* Plot histograms for the *duration* and *trip starting hour in the day* attributes. For both the *duration*  and the *trip starting hour* use *discrete 1-hour intervals*. What do you observe in each plot? What are some popular values in the *duration* plot? Explain the local maxima and the trends you observe on the *trip starting hour* plot based on human behavior.\n",
    "* For each *trip route category*, calculate the proportion of trips by *passholder type* and present your results in *a stacked bar chart with normalized height*.\n",
    "* Considering only trips that begin in the morning hours (before noon), plot in *a single bar chart* the proportion of trips by *passholder type* and *trip route category*. Explain any outliers you observe.\n",
    "* Separate the hours of the day into two intervals that have (approximately) the same number of bikes leaving the stations. For each of the two intervals calculate the proportion of trips by *passholder type* and *trip route category*. Present your results in a `DataFrame` which has a unique, non-composite index. Does the proportion of trips depend on whether it is the first or second hour interval? Would the company have any significant benefit by creating a more complex paying scheme where monthly pass users would pay less in the first interval and (equally) more on the second one? Assume that the number of trips per interval will not change if the scheme changes."
   ]
  },
  {
   "cell_type": "code",
   "execution_count": 169,
   "metadata": {},
   "outputs": [
    {
     "data": {
      "text/html": [
       "<div>\n",
       "<style scoped>\n",
       "    .dataframe tbody tr th:only-of-type {\n",
       "        vertical-align: middle;\n",
       "    }\n",
       "\n",
       "    .dataframe tbody tr th {\n",
       "        vertical-align: top;\n",
       "    }\n",
       "\n",
       "    .dataframe thead th {\n",
       "        text-align: right;\n",
       "    }\n",
       "</style>\n",
       "<table border=\"1\" class=\"dataframe\">\n",
       "  <thead>\n",
       "    <tr style=\"text-align: right;\">\n",
       "      <th></th>\n",
       "      <th>Starting Station ID</th>\n",
       "      <th>count</th>\n",
       "    </tr>\n",
       "  </thead>\n",
       "  <tbody>\n",
       "    <tr>\n",
       "      <th>0</th>\n",
       "      <td>3000.0</td>\n",
       "      <td>29</td>\n",
       "    </tr>\n",
       "    <tr>\n",
       "      <th>1</th>\n",
       "      <td>3005.0</td>\n",
       "      <td>4883</td>\n",
       "    </tr>\n",
       "    <tr>\n",
       "      <th>2</th>\n",
       "      <td>3006.0</td>\n",
       "      <td>2708</td>\n",
       "    </tr>\n",
       "    <tr>\n",
       "      <th>3</th>\n",
       "      <td>3007.0</td>\n",
       "      <td>2785</td>\n",
       "    </tr>\n",
       "    <tr>\n",
       "      <th>4</th>\n",
       "      <td>3008.0</td>\n",
       "      <td>2156</td>\n",
       "    </tr>\n",
       "  </tbody>\n",
       "</table>\n",
       "</div>"
      ],
      "text/plain": [
       "   Starting Station ID  count\n",
       "0               3000.0     29\n",
       "1               3005.0   4883\n",
       "2               3006.0   2708\n",
       "3               3007.0   2785\n",
       "4               3008.0   2156"
      ]
     },
     "execution_count": 169,
     "metadata": {},
     "output_type": "execute_result"
    },
    {
     "data": {
      "image/png": "[encoded data removed]",
      "text/plain": [
       "<matplotlib.figure.Figure at 0x1264e6860>"
      ]
     },
     "metadata": {
      "needs_background": "light"
     },
     "output_type": "display_data"
    }
   ],
   "source": [
    "#Q1\n",
    "import matplotlib.pyplot as plt\n",
    "starting_station_count = bikes.groupby(['Starting Station ID']).size().reset_index(name='count')\n",
    "starting_station_count.plot(x='Starting Station ID', kind='hist', bins=20, title='Number of outgoing trips per Station')\n",
    "starting_station_count.head()"
   ]
  },
  {
   "cell_type": "markdown",
   "metadata": {},
   "source": [
    "We group the trips by their Starting Station ID and count how many trips depart from each station(i.e. the number of outgoing trips). This gives the dataframe shown above. We plot the histogram accordingly by bins of 20 (i.e. Trips outgoing from Stations 0-20, 20-40, etc.)"
   ]
  },
  {
   "cell_type": "code",
   "execution_count": 170,
   "metadata": {},
   "outputs": [
    {
     "data": {
      "text/plain": [
       "<matplotlib.axes._subplots.AxesSubplot at 0x1467eb128>"
      ]
     },
     "execution_count": 170,
     "metadata": {},
     "output_type": "execute_result"
    },
    {
     "data": {
      "image/png": "[encoded data removed]",
      "text/plain": [
       "<matplotlib.figure.Figure at 0x116ead710>"
      ]
     },
     "metadata": {
      "needs_background": "light"
     },
     "output_type": "display_data"
    }
   ],
   "source": [
    "#Q2\n",
    "bikes['Start Time'] = pd.to_datetime(bikes['Start Time'])\n",
    "bikes['End Time'] = pd.to_datetime(bikes['End Time'])\n",
    "bikes['Duration in hours'] = bikes['Duration'] / 3600\n",
    "bikes['Start Time in hours'] = bikes['Start Time'].apply(lambda x: x.hour)\n",
    "bikes['Start Time in hours'].plot(kind=\"hist\", bins=24, title=\"Start Time Histogram in Hours\")"
   ]
  },
  {
   "cell_type": "code",
   "execution_count": 171,
   "metadata": {},
   "outputs": [
    {
     "data": {
      "text/plain": [
       "<matplotlib.axes._subplots.AxesSubplot at 0x12be8cb38>"
      ]
     },
     "execution_count": 171,
     "metadata": {},
     "output_type": "execute_result"
    },
    {
     "data": {
      "image/png": "[encoded data removed]",
      "text/plain": [
       "<matplotlib.figure.Figure at 0x144d42b70>"
      ]
     },
     "metadata": {
      "needs_background": "light"
     },
     "output_type": "display_data"
    }
   ],
   "source": [
    "bikes['Duration in hours'].plot(kind=\"hist\", bins=24, title=\"Duration Histogram in Hours\")"
   ]
  },
  {
   "cell_type": "markdown",
   "metadata": {},
   "source": [
    "A popular duration is less than 1 hour--this indicates that most bike trips are extremely short and under 1 hour. A local maximum for start time is around 17:00PM which is often when most people get off work. This is considered rush hour and hence bike start time spikes at this time, indicating it may be possible that many people are biking back home from work. "
   ]
  },
  {
   "cell_type": "code",
   "execution_count": 172,
   "metadata": {},
   "outputs": [
    {
     "data": {
      "text/html": [
       "<div>\n",
       "<style scoped>\n",
       "    .dataframe tbody tr th:only-of-type {\n",
       "        vertical-align: middle;\n",
       "    }\n",
       "\n",
       "    .dataframe tbody tr th {\n",
       "        vertical-align: top;\n",
       "    }\n",
       "\n",
       "    .dataframe thead th {\n",
       "        text-align: right;\n",
       "    }\n",
       "</style>\n",
       "<table border=\"1\" class=\"dataframe\">\n",
       "  <thead>\n",
       "    <tr style=\"text-align: right;\">\n",
       "      <th>Passholder Type</th>\n",
       "      <th>Flex Pass</th>\n",
       "      <th>Monthly Pass</th>\n",
       "      <th>Staff Annual</th>\n",
       "      <th>Walk-up</th>\n",
       "    </tr>\n",
       "    <tr>\n",
       "      <th>Trip Route Category</th>\n",
       "      <th></th>\n",
       "      <th></th>\n",
       "      <th></th>\n",
       "      <th></th>\n",
       "    </tr>\n",
       "  </thead>\n",
       "  <tbody>\n",
       "    <tr>\n",
       "      <th>One Way</th>\n",
       "      <td>0.075509</td>\n",
       "      <td>0.648033</td>\n",
       "      <td>0.002499</td>\n",
       "      <td>0.273959</td>\n",
       "    </tr>\n",
       "    <tr>\n",
       "      <th>Round Trip</th>\n",
       "      <td>0.037779</td>\n",
       "      <td>0.295033</td>\n",
       "      <td>0.006492</td>\n",
       "      <td>0.660696</td>\n",
       "    </tr>\n",
       "  </tbody>\n",
       "</table>\n",
       "</div>"
      ],
      "text/plain": [
       "Passholder Type      Flex Pass  Monthly Pass  Staff Annual   Walk-up\n",
       "Trip Route Category                                                 \n",
       "One Way               0.075509      0.648033      0.002499  0.273959\n",
       "Round Trip            0.037779      0.295033      0.006492  0.660696"
      ]
     },
     "execution_count": 172,
     "metadata": {},
     "output_type": "execute_result"
    },
    {
     "data": {
      "image/png": "[encoded data removed]",
      "text/plain": [
       "<matplotlib.figure.Figure at 0x1121df358>"
      ]
     },
     "metadata": {
      "needs_background": "light"
     },
     "output_type": "display_data"
    }
   ],
   "source": [
    "#Q3\n",
    "temp = bikes.groupby(['Trip Route Category', 'Passholder Type']).size()\n",
    "temp2 = temp.groupby(['Trip Route Category']).apply(lambda x: x / x.sum()).reset_index(name='proportion')\n",
    "pivot_df = temp2.pivot(index='Trip Route Category', columns='Passholder Type', values='proportion')\n",
    "\n",
    "colors = [\"#112F41\", \"#068587\",\"#F2B134\",\"#ED553B\"]\n",
    "pivot_df.loc[:,['Flex Pass','Monthly Pass', 'Staff Annual', 'Walk-up']].plot.bar(stacked=True, color=colors, figsize=(10,7))\n",
    "pivot_df"
   ]
  },
  {
   "cell_type": "code",
   "execution_count": 173,
   "metadata": {},
   "outputs": [
    {
     "data": {
      "text/plain": [
       "<matplotlib.axes._subplots.AxesSubplot at 0x111664f98>"
      ]
     },
     "execution_count": 173,
     "metadata": {},
     "output_type": "execute_result"
    },
    {
     "data": {
      "image/png": "[encoded data removed]",
      "text/plain": [
       "<matplotlib.figure.Figure at 0x144d2b198>"
      ]
     },
     "metadata": {
      "needs_background": "light"
     },
     "output_type": "display_data"
    }
   ],
   "source": [
    "#Q4\n",
    "bikes_filter = bikes[bikes[\"Start Time in hours\"] < 12]\n",
    "temp = bikes_filter.groupby(['Trip Route Category', 'Passholder Type']).size()\n",
    "temp2 = temp.groupby(['Trip Route Category']).apply(lambda x: x / x.sum()).reset_index(name='proportion')\n",
    "pivot_df = temp2.pivot(index='Trip Route Category', columns='Passholder Type', values='proportion')\n",
    "pivot_df.loc[:,['Flex Pass','Monthly Pass', 'Staff Annual', 'Walk-up']].plot.bar(stacked=False, color=colors, figsize=(10,7))"
   ]
  },
  {
   "cell_type": "markdown",
   "metadata": {},
   "source": [
    "Outliers: Staff Annual has lowest proportion in both one-way and round-trip, which makes sense because there is likely few staff relative to customers. If we were conducting data analysis on consumers, we should not even include staff annual in our dataset, as they are not representative of customers."
   ]
  },
  {
   "cell_type": "code",
   "execution_count": 174,
   "metadata": {},
   "outputs": [
    {
     "data": {
      "text/plain": [
       "(66463, 65945)"
      ]
     },
     "execution_count": 174,
     "metadata": {},
     "output_type": "execute_result"
    }
   ],
   "source": [
    "#Q5\n",
    "# We experimented with the hours until we get two groups where the number of outgoing bikes are close\n",
    "bikes_interval1 = bikes[bikes[\"Start Time in hours\"] < 15]\n",
    "bikes_interval2 = bikes[bikes[\"Start Time in hours\"] >= 15]\n",
    "bikes_interval1.groupby(['Starting Station ID']).size().sum(), bikes_interval2.groupby(['Starting Station ID']).size().sum()"
   ]
  },
  {
   "cell_type": "code",
   "execution_count": 175,
   "metadata": {},
   "outputs": [
    {
     "data": {
      "text/html": [
       "<div>\n",
       "<style scoped>\n",
       "    .dataframe tbody tr th:only-of-type {\n",
       "        vertical-align: middle;\n",
       "    }\n",
       "\n",
       "    .dataframe tbody tr th {\n",
       "        vertical-align: top;\n",
       "    }\n",
       "\n",
       "    .dataframe thead th {\n",
       "        text-align: right;\n",
       "    }\n",
       "</style>\n",
       "<table border=\"1\" class=\"dataframe\">\n",
       "  <thead>\n",
       "    <tr style=\"text-align: right;\">\n",
       "      <th></th>\n",
       "      <th>Trip Route Category</th>\n",
       "      <th>Passholder Type</th>\n",
       "      <th>proportion</th>\n",
       "      <th>Interval</th>\n",
       "    </tr>\n",
       "  </thead>\n",
       "  <tbody>\n",
       "    <tr>\n",
       "      <th>0</th>\n",
       "      <td>One Way</td>\n",
       "      <td>Flex Pass</td>\n",
       "      <td>0.077116</td>\n",
       "      <td>Before 15:00</td>\n",
       "    </tr>\n",
       "    <tr>\n",
       "      <th>1</th>\n",
       "      <td>One Way</td>\n",
       "      <td>Monthly Pass</td>\n",
       "      <td>0.657161</td>\n",
       "      <td>Before 15:00</td>\n",
       "    </tr>\n",
       "    <tr>\n",
       "      <th>2</th>\n",
       "      <td>One Way</td>\n",
       "      <td>Staff Annual</td>\n",
       "      <td>0.003055</td>\n",
       "      <td>Before 15:00</td>\n",
       "    </tr>\n",
       "    <tr>\n",
       "      <th>3</th>\n",
       "      <td>One Way</td>\n",
       "      <td>Walk-up</td>\n",
       "      <td>0.262668</td>\n",
       "      <td>Before 15:00</td>\n",
       "    </tr>\n",
       "    <tr>\n",
       "      <th>4</th>\n",
       "      <td>Round Trip</td>\n",
       "      <td>Flex Pass</td>\n",
       "      <td>0.040729</td>\n",
       "      <td>Before 15:00</td>\n",
       "    </tr>\n",
       "    <tr>\n",
       "      <th>5</th>\n",
       "      <td>Round Trip</td>\n",
       "      <td>Monthly Pass</td>\n",
       "      <td>0.314134</td>\n",
       "      <td>Before 15:00</td>\n",
       "    </tr>\n",
       "    <tr>\n",
       "      <th>6</th>\n",
       "      <td>Round Trip</td>\n",
       "      <td>Staff Annual</td>\n",
       "      <td>0.008967</td>\n",
       "      <td>Before 15:00</td>\n",
       "    </tr>\n",
       "    <tr>\n",
       "      <th>7</th>\n",
       "      <td>Round Trip</td>\n",
       "      <td>Walk-up</td>\n",
       "      <td>0.636170</td>\n",
       "      <td>Before 15:00</td>\n",
       "    </tr>\n",
       "    <tr>\n",
       "      <th>8</th>\n",
       "      <td>One Way</td>\n",
       "      <td>Flex Pass</td>\n",
       "      <td>0.073897</td>\n",
       "      <td>At or After 15:00</td>\n",
       "    </tr>\n",
       "    <tr>\n",
       "      <th>9</th>\n",
       "      <td>One Way</td>\n",
       "      <td>Monthly Pass</td>\n",
       "      <td>0.638882</td>\n",
       "      <td>At or After 15:00</td>\n",
       "    </tr>\n",
       "    <tr>\n",
       "      <th>10</th>\n",
       "      <td>One Way</td>\n",
       "      <td>Staff Annual</td>\n",
       "      <td>0.001942</td>\n",
       "      <td>At or After 15:00</td>\n",
       "    </tr>\n",
       "    <tr>\n",
       "      <th>11</th>\n",
       "      <td>One Way</td>\n",
       "      <td>Walk-up</td>\n",
       "      <td>0.285279</td>\n",
       "      <td>At or After 15:00</td>\n",
       "    </tr>\n",
       "    <tr>\n",
       "      <th>12</th>\n",
       "      <td>Round Trip</td>\n",
       "      <td>Flex Pass</td>\n",
       "      <td>0.034649</td>\n",
       "      <td>At or After 15:00</td>\n",
       "    </tr>\n",
       "    <tr>\n",
       "      <th>13</th>\n",
       "      <td>Round Trip</td>\n",
       "      <td>Monthly Pass</td>\n",
       "      <td>0.274778</td>\n",
       "      <td>At or After 15:00</td>\n",
       "    </tr>\n",
       "    <tr>\n",
       "      <th>14</th>\n",
       "      <td>Round Trip</td>\n",
       "      <td>Staff Annual</td>\n",
       "      <td>0.003868</td>\n",
       "      <td>At or After 15:00</td>\n",
       "    </tr>\n",
       "    <tr>\n",
       "      <th>15</th>\n",
       "      <td>Round Trip</td>\n",
       "      <td>Walk-up</td>\n",
       "      <td>0.686704</td>\n",
       "      <td>At or After 15:00</td>\n",
       "    </tr>\n",
       "  </tbody>\n",
       "</table>\n",
       "</div>"
      ],
      "text/plain": [
       "   Trip Route Category Passholder Type  proportion           Interval\n",
       "0              One Way       Flex Pass    0.077116       Before 15:00\n",
       "1              One Way    Monthly Pass    0.657161       Before 15:00\n",
       "2              One Way    Staff Annual    0.003055       Before 15:00\n",
       "3              One Way         Walk-up    0.262668       Before 15:00\n",
       "4           Round Trip       Flex Pass    0.040729       Before 15:00\n",
       "5           Round Trip    Monthly Pass    0.314134       Before 15:00\n",
       "6           Round Trip    Staff Annual    0.008967       Before 15:00\n",
       "7           Round Trip         Walk-up    0.636170       Before 15:00\n",
       "8              One Way       Flex Pass    0.073897  At or After 15:00\n",
       "9              One Way    Monthly Pass    0.638882  At or After 15:00\n",
       "10             One Way    Staff Annual    0.001942  At or After 15:00\n",
       "11             One Way         Walk-up    0.285279  At or After 15:00\n",
       "12          Round Trip       Flex Pass    0.034649  At or After 15:00\n",
       "13          Round Trip    Monthly Pass    0.274778  At or After 15:00\n",
       "14          Round Trip    Staff Annual    0.003868  At or After 15:00\n",
       "15          Round Trip         Walk-up    0.686704  At or After 15:00"
      ]
     },
     "execution_count": 175,
     "metadata": {},
     "output_type": "execute_result"
    }
   ],
   "source": [
    "temp1 = bikes_interval1.groupby(['Trip Route Category', 'Passholder Type']).size()\n",
    "proportion1 = temp1.groupby(['Trip Route Category']).apply(lambda x: x / x.sum()).reset_index(name='proportion')\n",
    "temp2 = bikes_interval2.groupby(['Trip Route Category', 'Passholder Type']).size()\n",
    "proportion2 = temp2.groupby(['Trip Route Category']).apply(lambda x: x / x.sum()).reset_index(name='proportion')\n",
    "proportion1['Interval'] = \"Before 15:00\"\n",
    "proportion2['Interval'] = \"At or After 15:00\"\n",
    "proportion_intervals = pd.concat([proportion1, proportion2])\n",
    "# The following line is aimed to get a unique, not composite index\n",
    "proportion_intervals.reset_index(drop=True)"
   ]
  },
  {
   "cell_type": "code",
   "execution_count": 176,
   "metadata": {},
   "outputs": [
    {
     "data": {
      "text/html": [
       "<div>\n",
       "<style scoped>\n",
       "    .dataframe tbody tr th:only-of-type {\n",
       "        vertical-align: middle;\n",
       "    }\n",
       "\n",
       "    .dataframe tbody tr th {\n",
       "        vertical-align: top;\n",
       "    }\n",
       "\n",
       "    .dataframe thead th {\n",
       "        text-align: right;\n",
       "    }\n",
       "</style>\n",
       "<table border=\"1\" class=\"dataframe\">\n",
       "  <thead>\n",
       "    <tr style=\"text-align: right;\">\n",
       "      <th></th>\n",
       "      <th></th>\n",
       "      <th></th>\n",
       "      <th>proportion</th>\n",
       "    </tr>\n",
       "    <tr>\n",
       "      <th>Trip Route Category</th>\n",
       "      <th>Passholder Type</th>\n",
       "      <th>Interval</th>\n",
       "      <th></th>\n",
       "    </tr>\n",
       "  </thead>\n",
       "  <tbody>\n",
       "    <tr>\n",
       "      <th rowspan=\"8\" valign=\"top\">One Way</th>\n",
       "      <th rowspan=\"2\" valign=\"top\">Flex Pass</th>\n",
       "      <th>At or After 15:00</th>\n",
       "      <td>0.073897</td>\n",
       "    </tr>\n",
       "    <tr>\n",
       "      <th>Before 15:00</th>\n",
       "      <td>0.077116</td>\n",
       "    </tr>\n",
       "    <tr>\n",
       "      <th rowspan=\"2\" valign=\"top\">Monthly Pass</th>\n",
       "      <th>At or After 15:00</th>\n",
       "      <td>0.638882</td>\n",
       "    </tr>\n",
       "    <tr>\n",
       "      <th>Before 15:00</th>\n",
       "      <td>0.657161</td>\n",
       "    </tr>\n",
       "    <tr>\n",
       "      <th rowspan=\"2\" valign=\"top\">Staff Annual</th>\n",
       "      <th>At or After 15:00</th>\n",
       "      <td>0.001942</td>\n",
       "    </tr>\n",
       "    <tr>\n",
       "      <th>Before 15:00</th>\n",
       "      <td>0.003055</td>\n",
       "    </tr>\n",
       "    <tr>\n",
       "      <th rowspan=\"2\" valign=\"top\">Walk-up</th>\n",
       "      <th>At or After 15:00</th>\n",
       "      <td>0.285279</td>\n",
       "    </tr>\n",
       "    <tr>\n",
       "      <th>Before 15:00</th>\n",
       "      <td>0.262668</td>\n",
       "    </tr>\n",
       "    <tr>\n",
       "      <th rowspan=\"8\" valign=\"top\">Round Trip</th>\n",
       "      <th rowspan=\"2\" valign=\"top\">Flex Pass</th>\n",
       "      <th>At or After 15:00</th>\n",
       "      <td>0.034649</td>\n",
       "    </tr>\n",
       "    <tr>\n",
       "      <th>Before 15:00</th>\n",
       "      <td>0.040729</td>\n",
       "    </tr>\n",
       "    <tr>\n",
       "      <th rowspan=\"2\" valign=\"top\">Monthly Pass</th>\n",
       "      <th>At or After 15:00</th>\n",
       "      <td>0.274778</td>\n",
       "    </tr>\n",
       "    <tr>\n",
       "      <th>Before 15:00</th>\n",
       "      <td>0.314134</td>\n",
       "    </tr>\n",
       "    <tr>\n",
       "      <th rowspan=\"2\" valign=\"top\">Staff Annual</th>\n",
       "      <th>At or After 15:00</th>\n",
       "      <td>0.003868</td>\n",
       "    </tr>\n",
       "    <tr>\n",
       "      <th>Before 15:00</th>\n",
       "      <td>0.008967</td>\n",
       "    </tr>\n",
       "    <tr>\n",
       "      <th rowspan=\"2\" valign=\"top\">Walk-up</th>\n",
       "      <th>At or After 15:00</th>\n",
       "      <td>0.686704</td>\n",
       "    </tr>\n",
       "    <tr>\n",
       "      <th>Before 15:00</th>\n",
       "      <td>0.636170</td>\n",
       "    </tr>\n",
       "  </tbody>\n",
       "</table>\n",
       "</div>"
      ],
      "text/plain": [
       "                                                       proportion\n",
       "Trip Route Category Passholder Type Interval                     \n",
       "One Way             Flex Pass       At or After 15:00    0.073897\n",
       "                                    Before 15:00         0.077116\n",
       "                    Monthly Pass    At or After 15:00    0.638882\n",
       "                                    Before 15:00         0.657161\n",
       "                    Staff Annual    At or After 15:00    0.001942\n",
       "                                    Before 15:00         0.003055\n",
       "                    Walk-up         At or After 15:00    0.285279\n",
       "                                    Before 15:00         0.262668\n",
       "Round Trip          Flex Pass       At or After 15:00    0.034649\n",
       "                                    Before 15:00         0.040729\n",
       "                    Monthly Pass    At or After 15:00    0.274778\n",
       "                                    Before 15:00         0.314134\n",
       "                    Staff Annual    At or After 15:00    0.003868\n",
       "                                    Before 15:00         0.008967\n",
       "                    Walk-up         At or After 15:00    0.686704\n",
       "                                    Before 15:00         0.636170"
      ]
     },
     "execution_count": 176,
     "metadata": {},
     "output_type": "execute_result"
    }
   ],
   "source": [
    "#above table grouped-by (nicer format for viewing)\n",
    "proportion_intervals.groupby(['Trip Route Category', 'Passholder Type', 'Interval']).sum()"
   ]
  },
  {
   "cell_type": "markdown",
   "metadata": {},
   "source": [
    "With some experimentations, we split the quantity of trips into two almost-equivalent groups: before 15h and after 15h. As we observe, the proportions of the outgoing bikes are similar in these two time periods. We deduce that the proportion of trips does not depend on wheter it's the first or second hour interval. Therefore, the company would not have significant benefit by creating a more complex paying scheme where monthly pass users would pay less in the first interval and more the second one. "
   ]
  },
  {
   "cell_type": "code",
   "execution_count": null,
   "metadata": {},
   "outputs": [],
   "source": []
  }
 ],
 "metadata": {
  "kernelspec": {
   "display_name": "Python 3",
   "language": "python",
   "name": "python3"
  },
  "language_info": {
   "codemirror_mode": {
    "name": "ipython",
    "version": 3
   },
   "file_extension": ".py",
   "mimetype": "text/x-python",
   "name": "python",
   "nbconvert_exporter": "python",
   "pygments_lexer": "ipython3",
   "version": "3.6.6"
  }
 },
 "nbformat": 4,
 "nbformat_minor": 2
}
